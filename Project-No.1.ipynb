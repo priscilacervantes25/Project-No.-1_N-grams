{
 "cells": [
  {
   "cell_type": "markdown",
   "id": "3d3a6ddb",
   "metadata": {},
   "source": [
    "___\n",
    "# <font color= #d4b1e6> **Proyecto 1: Análisis de Sentimientos** </font>\n",
    "- <Strong> Nombre de los integrantes: </Strong>  <font color=\"blue\">`Sarah Lucía Beltrán, Priscila Cervantes Ramírez & Mónica Ibarra Herrera` </font>\n",
    "- <Strong> Materia: </Strong>  <font color=\"blue\">`Minería de Textos` </font>\n",
    "___"
   ]
  },
  {
   "cell_type": "markdown",
   "id": "4343c92d",
   "metadata": {},
   "source": [
    "A continuación se trabajará con un dataset que contiene reseñas de películas que están etiquetadas como positivas y negativas.\n",
    "\n",
    "En este proyecto se implementarán y compararán modelos basados en n-grams (unigramas, bigramas y trigramas) enfocados en la clasificación de texto. El objetivo es evaluar cómo los diferentes tamaños de n-gramas influyen en el desempeño de los algoritmos que se emplearán. \n",
    "\n",
    "Los modelos que se incluirán son los siguientes:\n",
    "- Regresión Logística \n",
    "- Naive Bayes\n",
    "- SVM\n",
    "\n",
    "Para cada uno de los modelos mencionados anteriormente se obtendrán diferentes métricas como Accuracy, Precision, Recall y F1-Score.\n",
    "\n",
    "Se harán evaluaciones y se determinará cuál fue el modelo con el mejor desempeño, así como se revisarán algunos errores que hicieron los modelos para identificar por qué predijo mal, ya sea porque la reseña era de sarcasmo, negación, etc."
   ]
  },
  {
   "cell_type": "markdown",
   "id": "cf4f66ec",
   "metadata": {},
   "source": [
    "### <font color= #d4b1e6> **Librerías a utilizar** </font>"
   ]
  },
  {
   "cell_type": "code",
   "execution_count": 2,
   "id": "0590b7dd",
   "metadata": {},
   "outputs": [],
   "source": [
    "import pandas as pd\n",
    "import numpy as np\n",
    "from sklearn.model_selection import train_test_split\n",
    "import re\n",
    "import nltk\n",
    "from nltk.tokenize import word_tokenize\n",
    "from nltk.corpus import stopwords\n",
    "import string\n",
    "from sklearn.feature_extraction.text import CountVectorizer\n",
    "from sklearn.linear_model import LogisticRegression\n",
    "from sklearn.naive_bayes import MultinomialNB\n",
    "from sklearn.svm import LinearSVC\n",
    "from sklearn.metrics import accuracy_score, classification_report\n",
    "import matplotlib.pyplot as plt\n",
    "import seaborn as sns\n",
    "from sklearn.metrics import (\n",
    "    accuracy_score,\n",
    "    precision_recall_fscore_support,\n",
    "    classification_report,\n",
    "    confusion_matrix\n",
    ")\n",
    "import matplotlib.pyplot as plt\n",
    "import seaborn as sns\n",
    "import random"
   ]
  },
  {
   "cell_type": "markdown",
   "id": "ed5b2fde",
   "metadata": {},
   "source": [
    "### <font color= #d4b1e6> **Importación de los datos** </font>"
   ]
  },
  {
   "cell_type": "code",
   "execution_count": 3,
   "id": "bef12b9d",
   "metadata": {},
   "outputs": [
    {
     "data": {
      "text/html": [
       "<div>\n",
       "<style scoped>\n",
       "    .dataframe tbody tr th:only-of-type {\n",
       "        vertical-align: middle;\n",
       "    }\n",
       "\n",
       "    .dataframe tbody tr th {\n",
       "        vertical-align: top;\n",
       "    }\n",
       "\n",
       "    .dataframe thead th {\n",
       "        text-align: right;\n",
       "    }\n",
       "</style>\n",
       "<table border=\"1\" class=\"dataframe\">\n",
       "  <thead>\n",
       "    <tr style=\"text-align: right;\">\n",
       "      <th></th>\n",
       "      <th>review</th>\n",
       "      <th>sentiment</th>\n",
       "    </tr>\n",
       "  </thead>\n",
       "  <tbody>\n",
       "    <tr>\n",
       "      <th>0</th>\n",
       "      <td>One of the other reviewers has mentioned that ...</td>\n",
       "      <td>positive</td>\n",
       "    </tr>\n",
       "    <tr>\n",
       "      <th>1</th>\n",
       "      <td>A wonderful little production. &lt;br /&gt;&lt;br /&gt;The...</td>\n",
       "      <td>positive</td>\n",
       "    </tr>\n",
       "    <tr>\n",
       "      <th>2</th>\n",
       "      <td>I thought this was a wonderful way to spend ti...</td>\n",
       "      <td>positive</td>\n",
       "    </tr>\n",
       "    <tr>\n",
       "      <th>3</th>\n",
       "      <td>Basically there's a family where a little boy ...</td>\n",
       "      <td>negative</td>\n",
       "    </tr>\n",
       "    <tr>\n",
       "      <th>4</th>\n",
       "      <td>Petter Mattei's \"Love in the Time of Money\" is...</td>\n",
       "      <td>positive</td>\n",
       "    </tr>\n",
       "  </tbody>\n",
       "</table>\n",
       "</div>"
      ],
      "text/plain": [
       "                                              review sentiment\n",
       "0  One of the other reviewers has mentioned that ...  positive\n",
       "1  A wonderful little production. <br /><br />The...  positive\n",
       "2  I thought this was a wonderful way to spend ti...  positive\n",
       "3  Basically there's a family where a little boy ...  negative\n",
       "4  Petter Mattei's \"Love in the Time of Money\" is...  positive"
      ]
     },
     "execution_count": 3,
     "metadata": {},
     "output_type": "execute_result"
    }
   ],
   "source": [
    "df = pd.read_csv('IMDB Dataset.csv')\n",
    "df.head()"
   ]
  },
  {
   "cell_type": "markdown",
   "id": "c6e2f699",
   "metadata": {},
   "source": [
    "*Visualizar que no haya valores nulos*"
   ]
  },
  {
   "cell_type": "code",
   "execution_count": 4,
   "id": "98b7c28c",
   "metadata": {},
   "outputs": [
    {
     "name": "stdout",
     "output_type": "stream",
     "text": [
      "<class 'pandas.core.frame.DataFrame'>\n",
      "RangeIndex: 50000 entries, 0 to 49999\n",
      "Data columns (total 2 columns):\n",
      " #   Column     Non-Null Count  Dtype \n",
      "---  ------     --------------  ----- \n",
      " 0   review     50000 non-null  object\n",
      " 1   sentiment  50000 non-null  object\n",
      "dtypes: object(2)\n",
      "memory usage: 781.4+ KB\n"
     ]
    }
   ],
   "source": [
    "df.info()"
   ]
  },
  {
   "cell_type": "markdown",
   "id": "7637028f",
   "metadata": {},
   "source": [
    "### <font color= #d4b1e6> **División train/test** </font>"
   ]
  },
  {
   "cell_type": "code",
   "execution_count": 5,
   "id": "620572cc",
   "metadata": {},
   "outputs": [
    {
     "name": "stdout",
     "output_type": "stream",
     "text": [
      "Tamaño train: 25000\n",
      "Tamaño test: 25000\n"
     ]
    }
   ],
   "source": [
    "train_df, test_df = train_test_split(df, test_size=0.5, random_state=42, stratify=df['sentiment'])\n",
    "\n",
    "print(\"Tamaño train:\", len(train_df))\n",
    "print(\"Tamaño test:\", len(test_df))\n"
   ]
  },
  {
   "cell_type": "markdown",
   "id": "b6caf9a9",
   "metadata": {},
   "source": [
    "Se usarán el 50% es decir 25,000 reseñas para entrenar a los modelos y las reseñas restantes, se usarán para probar su rendimiento."
   ]
  },
  {
   "cell_type": "markdown",
   "id": "d24b4eba",
   "metadata": {},
   "source": [
    "### <font color= #d4b1e6> **Pre-Procesamiento** </font>"
   ]
  },
  {
   "cell_type": "code",
   "execution_count": 6,
   "id": "8cd1373e",
   "metadata": {},
   "outputs": [
    {
     "name": "stderr",
     "output_type": "stream",
     "text": [
      "[nltk_data] Downloading package punkt to\n",
      "[nltk_data]     C:\\Users\\cesar\\AppData\\Roaming\\nltk_data...\n",
      "[nltk_data]   Package punkt is already up-to-date!\n",
      "[nltk_data] Downloading package punkt_tab to\n",
      "[nltk_data]     C:\\Users\\cesar\\AppData\\Roaming\\nltk_data...\n",
      "[nltk_data]   Package punkt_tab is already up-to-date!\n",
      "[nltk_data] Downloading package stopwords to\n",
      "[nltk_data]     C:\\Users\\cesar\\AppData\\Roaming\\nltk_data...\n",
      "[nltk_data]   Package stopwords is already up-to-date!\n"
     ]
    },
    {
     "data": {
      "text/plain": [
       "True"
      ]
     },
     "execution_count": 6,
     "metadata": {},
     "output_type": "execute_result"
    }
   ],
   "source": [
    "nltk.download('punkt')\n",
    "nltk.download('punkt_tab')\n",
    "nltk.download(\"stopwords\")"
   ]
  },
  {
   "cell_type": "markdown",
   "id": "2394d58b",
   "metadata": {},
   "source": [
    "Se utilizó la librería NLTK (Natural Language Toolkit) para realizar la tokenización del texto. Para ello fue necesario descargar los recursos *punkt*, *punkt_tab* y *stopwords*.\n",
    "\n",
    "- *punkt* permite dividir de manera automática un texto en oraciones y palabras (tokens). \n",
    "\n",
    "- *punkt_tab* contiene información extra para que funcione de manera correcta el tokenizador.\n",
    "\n",
    "- *stopwords* que contiene un listado de palabras muy frecuentes en el idioma (como the, is, and) que suelen eliminarse por no aportar valor al analizar texto.\n",
    "\n",
    "De esta forma, se asegura que cada reseña se transforme en una secuencia de palabras significativas antes de construir representaciones con n-gramas."
   ]
  },
  {
   "cell_type": "markdown",
   "id": "65595f1d",
   "metadata": {},
   "source": [
    "*Limpieza de reseñas*"
   ]
  },
  {
   "cell_type": "code",
   "execution_count": 7,
   "id": "f65f1bb1",
   "metadata": {},
   "outputs": [],
   "source": [
    "STOPWORDS = set(stopwords.words(\"english\"))\n",
    "PUNCT_TABLE = str.maketrans(\"\", \"\", string.punctuation)"
   ]
  },
  {
   "cell_type": "markdown",
   "id": "f0ee1c3e",
   "metadata": {},
   "source": [
    "- *STOPWORDS* importa una lista de stopwords en inglés desde NLTK y las convierte en un conjunto para que las búsquedas sean más rápidas cuando se filtre texto.\n",
    "- *PUNCT_TABLE* crea una tabla de traducción que sirve para eliminar todos los signos de puntuación, limpia el texto quitando las puntuaciones."
   ]
  },
  {
   "cell_type": "code",
   "execution_count": 8,
   "id": "af3a1222",
   "metadata": {},
   "outputs": [
    {
     "data": {
      "text/html": [
       "<div>\n",
       "<style scoped>\n",
       "    .dataframe tbody tr th:only-of-type {\n",
       "        vertical-align: middle;\n",
       "    }\n",
       "\n",
       "    .dataframe tbody tr th {\n",
       "        vertical-align: top;\n",
       "    }\n",
       "\n",
       "    .dataframe thead th {\n",
       "        text-align: right;\n",
       "    }\n",
       "</style>\n",
       "<table border=\"1\" class=\"dataframe\">\n",
       "  <thead>\n",
       "    <tr style=\"text-align: right;\">\n",
       "      <th></th>\n",
       "      <th>review</th>\n",
       "      <th>sentiment</th>\n",
       "      <th>clean_review</th>\n",
       "    </tr>\n",
       "  </thead>\n",
       "  <tbody>\n",
       "    <tr>\n",
       "      <th>3055</th>\n",
       "      <td>Trio's vignettes were insightful and quite enj...</td>\n",
       "      <td>positive</td>\n",
       "      <td>trio 's vignettes were insightful and quite en...</td>\n",
       "    </tr>\n",
       "    <tr>\n",
       "      <th>47326</th>\n",
       "      <td>I had never heard of this one before the owner...</td>\n",
       "      <td>negative</td>\n",
       "      <td>i had never heard of this one before the owner...</td>\n",
       "    </tr>\n",
       "    <tr>\n",
       "      <th>48869</th>\n",
       "      <td>This is an excellent but hard to find trippy W...</td>\n",
       "      <td>positive</td>\n",
       "      <td>this is an excellent but hard to find trippy w...</td>\n",
       "    </tr>\n",
       "    <tr>\n",
       "      <th>48623</th>\n",
       "      <td>I am a huge fan of big, loud, trashy, complete...</td>\n",
       "      <td>positive</td>\n",
       "      <td>i am a huge fan of big loud trashy completely ...</td>\n",
       "    </tr>\n",
       "    <tr>\n",
       "      <th>39657</th>\n",
       "      <td>Easily Lucio Fulci's most respected film, \"Don...</td>\n",
       "      <td>positive</td>\n",
       "      <td>easily lucio fulci 's most respected film do n...</td>\n",
       "    </tr>\n",
       "  </tbody>\n",
       "</table>\n",
       "</div>"
      ],
      "text/plain": [
       "                                                  review sentiment  \\\n",
       "3055   Trio's vignettes were insightful and quite enj...  positive   \n",
       "47326  I had never heard of this one before the owner...  negative   \n",
       "48869  This is an excellent but hard to find trippy W...  positive   \n",
       "48623  I am a huge fan of big, loud, trashy, complete...  positive   \n",
       "39657  Easily Lucio Fulci's most respected film, \"Don...  positive   \n",
       "\n",
       "                                            clean_review  \n",
       "3055   trio 's vignettes were insightful and quite en...  \n",
       "47326  i had never heard of this one before the owner...  \n",
       "48869  this is an excellent but hard to find trippy w...  \n",
       "48623  i am a huge fan of big loud trashy completely ...  \n",
       "39657  easily lucio fulci 's most respected film do n...  "
      ]
     },
     "execution_count": 8,
     "metadata": {},
     "output_type": "execute_result"
    }
   ],
   "source": [
    "def preprocess_text(text, remove_stopwords=False):\n",
    "    # Minúsculas\n",
    "    text = text.lower()\n",
    "    # Eliminar HTML\n",
    "    text = re.sub(r\"<.*?>\", \" \", text)\n",
    "    # Tokenizar\n",
    "    tokens = word_tokenize(text)\n",
    "    # Eliminar tokens que no son alfanuméricos\n",
    "    tokens = [t for t in tokens if any(c.isalnum() for c in t)]\n",
    "    # Eliminar stopwords si se requiere\n",
    "    if remove_stopwords:\n",
    "        tokens = [t for t in tokens if t not in STOPWORDS]\n",
    "    return \" \".join(tokens)\n",
    "\n",
    "# Aplicamos a train y test\n",
    "train_df[\"clean_review\"] = train_df[\"review\"].apply(lambda x: preprocess_text(x, remove_stopwords=False))\n",
    "test_df[\"clean_review\"] = test_df[\"review\"].apply(lambda x: preprocess_text(x, remove_stopwords=False))\n",
    "\n",
    "train_df.head()"
   ]
  },
  {
   "cell_type": "markdown",
   "id": "41cd9937",
   "metadata": {},
   "source": [
    "Se implementa una función de preprocesamiento de texto que:\n",
    "\n",
    "1) Convierte todo a minúsculas.\n",
    "\n",
    "2) Elimina etiquetas HTML.\n",
    "\n",
    "3) Tokeniza las reseñas en palabras individuales.\n",
    "\n",
    "4) Filtra tokens que no son letras o números como signos de puntuación\n",
    "\n",
    "5) Opcionalmente elimina stopwords.\n",
    "\n",
    "Se decidió no eliminar las stopwords durante el preprocesamiento, ya que en análisis de sentimientos estas palabras pueden cambiar el significado de una oración. Palabras como ‘not’, ‘never’ o ‘don’t’ son esenciales para que el modelo identifique correctamente si la reseña es positiva o negativa. \n",
    "\n",
    "De esta manera, se obtiene una columna clean_review con texto más limpio y normalizado, que facilita el posterior análisis y entrenamiento del modelo de clasificación."
   ]
  },
  {
   "cell_type": "markdown",
   "id": "4a1e1054",
   "metadata": {},
   "source": [
    "*Extracción de características*"
   ]
  },
  {
   "cell_type": "code",
   "execution_count": 9,
   "id": "4ff9a513",
   "metadata": {},
   "outputs": [
    {
     "name": "stdout",
     "output_type": "stream",
     "text": [
      "Shape X_train: (25000, 50000)\n",
      "Shape X_test: (25000, 50000)\n"
     ]
    }
   ],
   "source": [
    "# Definir el vectorizador con unigramas, bigramas y trigramas\n",
    "vectorizer = CountVectorizer(ngram_range=(1,3), max_features=50000) # max_features: limita vocabulario para no explotar la RAM\n",
    "\n",
    "#  Ajustar al train y transformar\n",
    "X_train = vectorizer.fit_transform(train_df[\"clean_review\"])\n",
    "X_test = vectorizer.transform(test_df[\"clean_review\"])\n",
    "\n",
    "y_train = train_df[\"sentiment\"]\n",
    "y_test = test_df[\"sentiment\"]\n",
    "\n",
    "print(\"Shape X_train:\", X_train.shape)\n",
    "print(\"Shape X_test:\", X_test.shape)"
   ]
  },
  {
   "cell_type": "markdown",
   "id": "131b7ec2",
   "metadata": {},
   "source": [
    "Para representar las reseñas se utilizó un CountVectorizer de Scikit-learn para extraer unigramas, bigramas y trigramas. Esto significa que cada reseña se transforma en un vector que refleja la frecuencia de palabras individuales y combinaciones de dos o tres palabras consecutivas. Se limitó el vocabulario a 50,000 características para reducir el consumo de memoria.\n",
    "\n",
    "El vectorizador se ajusta al conjunto de entrenamiento y luego se aplica al conjunto de prueba usando el mismo vocabulario aprendido, asegurando que la evaluación sea consistente. Las etiquetas de sentimiento se almacenan por separado en y_train y y_test, y las dimensiones de las matrices resultantes reflejan el número de reseñas y la cantidad de n-gramas considerados."
   ]
  },
  {
   "cell_type": "markdown",
   "id": "a19a8372",
   "metadata": {},
   "source": [
    "### <font color= #d4b1e6> **Entrenamiento de Modelos** </font> "
   ]
  },
  {
   "cell_type": "markdown",
   "id": "ef25d3f4",
   "metadata": {},
   "source": [
    "#### <font color= #96d9cf> **Regresión Logística** </font> "
   ]
  },
  {
   "cell_type": "code",
   "execution_count": 10,
   "id": "5e6cd7c2",
   "metadata": {},
   "outputs": [
    {
     "name": "stderr",
     "output_type": "stream",
     "text": [
      "c:\\Users\\cesar\\anaconda3\\envs\\iteso\\lib\\site-packages\\sklearn\\linear_model\\_sag.py:349: ConvergenceWarning: The max_iter was reached which means the coef_ did not converge\n",
      "  warnings.warn(\n"
     ]
    },
    {
     "name": "stdout",
     "output_type": "stream",
     "text": [
      "Logistic Regression\n",
      "Accuracy: 0.90108\n",
      "              precision    recall  f1-score   support\n",
      "\n",
      "    negative       0.91      0.90      0.90     12500\n",
      "    positive       0.90      0.91      0.90     12500\n",
      "\n",
      "    accuracy                           0.90     25000\n",
      "   macro avg       0.90      0.90      0.90     25000\n",
      "weighted avg       0.90      0.90      0.90     25000\n",
      "\n"
     ]
    }
   ],
   "source": [
    "logreg = LogisticRegression(max_iter=1000, solver=\"saga\")\n",
    "logreg.fit(X_train, y_train)\n",
    "y_pred_logreg = logreg.predict(X_test)\n",
    "print(\"Logistic Regression\")\n",
    "print(\"Accuracy:\", accuracy_score(y_test, y_pred_logreg))\n",
    "print(classification_report(y_test, y_pred_logreg))"
   ]
  },
  {
   "cell_type": "markdown",
   "id": "625ebf08",
   "metadata": {},
   "source": [
    "*Explicación de hiperparámetros*\n",
    "\n",
    "Para entrenar el modelo de Regresión Logística se utilizó LogisticRegression de Scikit-learn con los hiperparámetros max_iter=1000 y solver=\"saga\".\n",
    "\n",
    "- *max_iter* de 1000 para asegurar que el algoritmo converja, dado el tamaño y la alta dimensionalidad de los datos de n-grams.\n",
    "\n",
    "- *solver=\"saga\"* fue elegido por su eficiencia con matrices dispersas y por su capacidad de manejar regularización L1 y L2, características útiles para textos con muchas características."
   ]
  },
  {
   "cell_type": "markdown",
   "id": "483a30e2",
   "metadata": {},
   "source": [
    "#### <font color= #96d9cf> **Naive Bayes** </font>"
   ]
  },
  {
   "cell_type": "code",
   "execution_count": 11,
   "id": "fc34276c",
   "metadata": {},
   "outputs": [
    {
     "name": "stdout",
     "output_type": "stream",
     "text": [
      "Naive Bayes\n",
      "Accuracy: 0.86768\n",
      "              precision    recall  f1-score   support\n",
      "\n",
      "    negative       0.87      0.87      0.87     12500\n",
      "    positive       0.87      0.87      0.87     12500\n",
      "\n",
      "    accuracy                           0.87     25000\n",
      "   macro avg       0.87      0.87      0.87     25000\n",
      "weighted avg       0.87      0.87      0.87     25000\n",
      "\n"
     ]
    }
   ],
   "source": [
    "nb = MultinomialNB(alpha=0.5)\n",
    "nb.fit(X_train, y_train)\n",
    "y_pred_nb = nb.predict(X_test)\n",
    "print(\"Naive Bayes\")\n",
    "print(\"Accuracy:\", accuracy_score(y_test, y_pred_nb))\n",
    "print(classification_report(y_test, y_pred_nb))"
   ]
  },
  {
   "cell_type": "markdown",
   "id": "6d09e69e",
   "metadata": {},
   "source": [
    "Se entrenó un modelo Naive Bayes multinomial para clasificar las reseñas en positivas o negativas. Este modelo es adecuado para datos de conteo, como los vectores de n-grams, ya que estima la probabilidad de cada palabra dado el sentimiento de la reseña."
   ]
  },
  {
   "cell_type": "markdown",
   "id": "c0c60634",
   "metadata": {},
   "source": [
    "#### <font color= #96d9cf> **SVM** </font>"
   ]
  },
  {
   "cell_type": "code",
   "execution_count": 12,
   "id": "113df1be",
   "metadata": {},
   "outputs": [
    {
     "name": "stderr",
     "output_type": "stream",
     "text": [
      "c:\\Users\\cesar\\anaconda3\\envs\\iteso\\lib\\site-packages\\sklearn\\svm\\_base.py:1235: ConvergenceWarning: Liblinear failed to converge, increase the number of iterations.\n",
      "  warnings.warn(\n"
     ]
    },
    {
     "name": "stdout",
     "output_type": "stream",
     "text": [
      "SVM\n",
      "Accuracy: 0.88436\n",
      "              precision    recall  f1-score   support\n",
      "\n",
      "    negative       0.89      0.88      0.88     12500\n",
      "    positive       0.88      0.89      0.88     12500\n",
      "\n",
      "    accuracy                           0.88     25000\n",
      "   macro avg       0.88      0.88      0.88     25000\n",
      "weighted avg       0.88      0.88      0.88     25000\n",
      "\n"
     ]
    }
   ],
   "source": [
    "svm = LinearSVC()\n",
    "svm.fit(X_train, y_train)\n",
    "y_pred_svm = svm.predict(X_test)\n",
    "print(\"SVM\")\n",
    "print(\"Accuracy:\", accuracy_score(y_test, y_pred_svm))\n",
    "print(classification_report(y_test, y_pred_svm))"
   ]
  },
  {
   "cell_type": "markdown",
   "id": "bacb63bc",
   "metadata": {},
   "source": [
    "### <font color= #d4b1e6> **Evaluación** </font> "
   ]
  },
  {
   "cell_type": "code",
   "execution_count": 13,
   "id": "7505446c",
   "metadata": {},
   "outputs": [],
   "source": [
    "def plot_confusion(y_true, y_pred, title):\n",
    "    cm = confusion_matrix(y_true, y_pred, labels=[\"positive\", \"negative\"])\n",
    "    plt.figure(figsize=(5,4))\n",
    "    sns.heatmap(cm, annot=True, fmt=\"d\", cmap=\"Blues\",\n",
    "                xticklabels=[\"positive\", \"negative\"],\n",
    "                yticklabels=[\"positive\", \"negative\"])\n",
    "    plt.xlabel(\"Predicted\")\n",
    "    plt.ylabel(\"True\")\n",
    "    plt.title(title)\n",
    "    plt.show()"
   ]
  },
  {
   "cell_type": "markdown",
   "id": "563889b2",
   "metadata": {},
   "source": [
    "#### <font color= #96d9cf> **Regresión Logística** </font> "
   ]
  },
  {
   "cell_type": "code",
   "execution_count": 14,
   "id": "76042b06",
   "metadata": {},
   "outputs": [
    {
     "data": {
      "image/png": "[encoded data removed]",
      "text/plain": [
       "<Figure size 500x400 with 2 Axes>"
      ]
     },
     "metadata": {},
     "output_type": "display_data"
    }
   ],
   "source": [
    "plot_confusion(y_test, y_pred_logreg, \"Confusion Matrix - Logistic Regression\")"
   ]
  },
  {
   "cell_type": "markdown",
   "id": "813581b7",
   "metadata": {},
   "source": [
    "#### <font color= #96d9cf> **Naive Bayes** </font>"
   ]
  },
  {
   "cell_type": "code",
   "execution_count": 15,
   "id": "74aed4a7",
   "metadata": {},
   "outputs": [
    {
     "data": {
      "image/png": "[encoded data removed]",
      "text/plain": [
       "<Figure size 500x400 with 2 Axes>"
      ]
     },
     "metadata": {},
     "output_type": "display_data"
    }
   ],
   "source": [
    "plot_confusion(y_test, y_pred_nb, \"Confusion Matrix - Naive Bayes\")\n"
   ]
  },
  {
   "cell_type": "markdown",
   "id": "7ce6a183",
   "metadata": {},
   "source": [
    "#### <font color= #96d9cf> **SVM** </font>"
   ]
  },
  {
   "cell_type": "code",
   "execution_count": 16,
   "id": "3a7a024a",
   "metadata": {},
   "outputs": [
    {
     "data": {
      "image/png": "[encoded data removed]",
      "text/plain": [
       "<Figure size 500x400 with 2 Axes>"
      ]
     },
     "metadata": {},
     "output_type": "display_data"
    }
   ],
   "source": [
    "plot_confusion(y_test, y_pred_svm, \"Confusion Matrix - SVM\")"
   ]
  },
  {
   "cell_type": "code",
   "execution_count": 17,
   "id": "492f4208",
   "metadata": {},
   "outputs": [
    {
     "name": "stdout",
     "output_type": "stream",
     "text": [
      "\n",
      "============================================================\n",
      "Modelo: LogisticRegression\n",
      "Accuracy: 0.9011\n",
      "Macro - Precision: 0.9011  Recall: 0.9011  F1: 0.9011\n",
      "Weighted - Precision: 0.9011  Recall: 0.9011  F1: 0.9011\n",
      "\n",
      "Per-class (positive / negative):\n",
      " Precision: 0.8971 / 0.9051\n",
      " Recall:    0.9061 / 0.8961\n",
      " F1-score:  0.9016 / 0.9006\n",
      "\n",
      "Classification report:\n",
      "\n",
      "              precision    recall  f1-score   support\n",
      "\n",
      "    positive       0.90      0.91      0.90     12500\n",
      "    negative       0.91      0.90      0.90     12500\n",
      "\n",
      "    accuracy                           0.90     25000\n",
      "   macro avg       0.90      0.90      0.90     25000\n",
      "weighted avg       0.90      0.90      0.90     25000\n",
      "\n",
      "============================================================\n"
     ]
    },
    {
     "data": {
      "image/png": "[encoded data removed]",
      "text/plain": [
       "<Figure size 450x350 with 2 Axes>"
      ]
     },
     "metadata": {},
     "output_type": "display_data"
    },
    {
     "name": "stdout",
     "output_type": "stream",
     "text": [
      "\n",
      "============================================================\n",
      "Modelo: MultinomialNB\n",
      "Accuracy: 0.8677\n",
      "Macro - Precision: 0.8677  Recall: 0.8677  F1: 0.8677\n",
      "Weighted - Precision: 0.8677  Recall: 0.8677  F1: 0.8677\n",
      "\n",
      "Per-class (positive / negative):\n",
      " Precision: 0.8666 / 0.8687\n",
      " Recall:    0.8691 / 0.8662\n",
      " F1-score:  0.8679 / 0.8675\n",
      "\n",
      "Classification report:\n",
      "\n",
      "              precision    recall  f1-score   support\n",
      "\n",
      "    positive       0.87      0.87      0.87     12500\n",
      "    negative       0.87      0.87      0.87     12500\n",
      "\n",
      "    accuracy                           0.87     25000\n",
      "   macro avg       0.87      0.87      0.87     25000\n",
      "weighted avg       0.87      0.87      0.87     25000\n",
      "\n",
      "============================================================\n"
     ]
    },
    {
     "data": {
      "image/png": "[encoded data removed]",
      "text/plain": [
       "<Figure size 450x350 with 2 Axes>"
      ]
     },
     "metadata": {},
     "output_type": "display_data"
    },
    {
     "name": "stdout",
     "output_type": "stream",
     "text": [
      "\n",
      "============================================================\n",
      "Modelo: LinearSVC\n",
      "Accuracy: 0.8844\n",
      "Macro - Precision: 0.8844  Recall: 0.8844  F1: 0.8844\n",
      "Weighted - Precision: 0.8844  Recall: 0.8844  F1: 0.8844\n",
      "\n",
      "Per-class (positive / negative):\n",
      " Precision: 0.8833 / 0.8854\n",
      " Recall:    0.8858 / 0.8830\n",
      " F1-score:  0.8845 / 0.8842\n",
      "\n",
      "Classification report:\n",
      "\n",
      "              precision    recall  f1-score   support\n",
      "\n",
      "    positive       0.88      0.89      0.88     12500\n",
      "    negative       0.89      0.88      0.88     12500\n",
      "\n",
      "    accuracy                           0.88     25000\n",
      "   macro avg       0.88      0.88      0.88     25000\n",
      "weighted avg       0.88      0.88      0.88     25000\n",
      "\n",
      "============================================================\n"
     ]
    },
    {
     "data": {
      "image/png": "[encoded data removed]",
      "text/plain": [
       "<Figure size 450x350 with 2 Axes>"
      ]
     },
     "metadata": {},
     "output_type": "display_data"
    },
    {
     "data": {
      "text/html": [
       "<div>\n",
       "<style scoped>\n",
       "    .dataframe tbody tr th:only-of-type {\n",
       "        vertical-align: middle;\n",
       "    }\n",
       "\n",
       "    .dataframe tbody tr th {\n",
       "        vertical-align: top;\n",
       "    }\n",
       "\n",
       "    .dataframe thead th {\n",
       "        text-align: right;\n",
       "    }\n",
       "</style>\n",
       "<table border=\"1\" class=\"dataframe\">\n",
       "  <thead>\n",
       "    <tr style=\"text-align: right;\">\n",
       "      <th></th>\n",
       "      <th>accuracy</th>\n",
       "      <th>precision_macro</th>\n",
       "      <th>recall_macro</th>\n",
       "      <th>f1_macro</th>\n",
       "      <th>precision_weighted</th>\n",
       "      <th>recall_weighted</th>\n",
       "      <th>f1_weighted</th>\n",
       "      <th>pos_precision</th>\n",
       "      <th>pos_recall</th>\n",
       "      <th>pos_f1</th>\n",
       "      <th>neg_precision</th>\n",
       "      <th>neg_recall</th>\n",
       "      <th>neg_f1</th>\n",
       "    </tr>\n",
       "    <tr>\n",
       "      <th>model</th>\n",
       "      <th></th>\n",
       "      <th></th>\n",
       "      <th></th>\n",
       "      <th></th>\n",
       "      <th></th>\n",
       "      <th></th>\n",
       "      <th></th>\n",
       "      <th></th>\n",
       "      <th></th>\n",
       "      <th></th>\n",
       "      <th></th>\n",
       "      <th></th>\n",
       "      <th></th>\n",
       "    </tr>\n",
       "  </thead>\n",
       "  <tbody>\n",
       "    <tr>\n",
       "      <th>LogisticRegression</th>\n",
       "      <td>0.9011</td>\n",
       "      <td>0.9011</td>\n",
       "      <td>0.9011</td>\n",
       "      <td>0.9011</td>\n",
       "      <td>0.9011</td>\n",
       "      <td>0.9011</td>\n",
       "      <td>0.9011</td>\n",
       "      <td>0.8971</td>\n",
       "      <td>0.9061</td>\n",
       "      <td>0.9016</td>\n",
       "      <td>0.9051</td>\n",
       "      <td>0.8961</td>\n",
       "      <td>0.9006</td>\n",
       "    </tr>\n",
       "    <tr>\n",
       "      <th>MultinomialNB</th>\n",
       "      <td>0.8677</td>\n",
       "      <td>0.8677</td>\n",
       "      <td>0.8677</td>\n",
       "      <td>0.8677</td>\n",
       "      <td>0.8677</td>\n",
       "      <td>0.8677</td>\n",
       "      <td>0.8677</td>\n",
       "      <td>0.8666</td>\n",
       "      <td>0.8691</td>\n",
       "      <td>0.8679</td>\n",
       "      <td>0.8687</td>\n",
       "      <td>0.8662</td>\n",
       "      <td>0.8675</td>\n",
       "    </tr>\n",
       "    <tr>\n",
       "      <th>LinearSVC</th>\n",
       "      <td>0.8844</td>\n",
       "      <td>0.8844</td>\n",
       "      <td>0.8844</td>\n",
       "      <td>0.8844</td>\n",
       "      <td>0.8844</td>\n",
       "      <td>0.8844</td>\n",
       "      <td>0.8844</td>\n",
       "      <td>0.8833</td>\n",
       "      <td>0.8858</td>\n",
       "      <td>0.8845</td>\n",
       "      <td>0.8854</td>\n",
       "      <td>0.8830</td>\n",
       "      <td>0.8842</td>\n",
       "    </tr>\n",
       "  </tbody>\n",
       "</table>\n",
       "</div>"
      ],
      "text/plain": [
       "                    accuracy  precision_macro  recall_macro  f1_macro  \\\n",
       "model                                                                   \n",
       "LogisticRegression    0.9011           0.9011        0.9011    0.9011   \n",
       "MultinomialNB         0.8677           0.8677        0.8677    0.8677   \n",
       "LinearSVC             0.8844           0.8844        0.8844    0.8844   \n",
       "\n",
       "                    precision_weighted  recall_weighted  f1_weighted  \\\n",
       "model                                                                  \n",
       "LogisticRegression              0.9011           0.9011       0.9011   \n",
       "MultinomialNB                   0.8677           0.8677       0.8677   \n",
       "LinearSVC                       0.8844           0.8844       0.8844   \n",
       "\n",
       "                    pos_precision  pos_recall  pos_f1  neg_precision  \\\n",
       "model                                                                  \n",
       "LogisticRegression         0.8971      0.9061  0.9016         0.9051   \n",
       "MultinomialNB              0.8666      0.8691  0.8679         0.8687   \n",
       "LinearSVC                  0.8833      0.8858  0.8845         0.8854   \n",
       "\n",
       "                    neg_recall  neg_f1  \n",
       "model                                   \n",
       "LogisticRegression      0.8961  0.9006  \n",
       "MultinomialNB           0.8662  0.8675  \n",
       "LinearSVC               0.8830  0.8842  "
      ]
     },
     "metadata": {},
     "output_type": "display_data"
    }
   ],
   "source": [
    "\n",
    "# Asegúrate de que y_test y las predicciones existen\n",
    "models_preds = {\n",
    "    \"LogisticRegression\": y_pred_logreg,\n",
    "    \"MultinomialNB\": y_pred_nb,\n",
    "    \"LinearSVC\": y_pred_svm\n",
    "}\n",
    "\n",
    "summary_rows = []\n",
    "\n",
    "def print_cm(y_true, y_pred, title):\n",
    "    labels_order = [\"positive\", \"negative\"]  # ajusta si tus labels son otras\n",
    "    cm = confusion_matrix(y_true, y_pred, labels=labels_order)\n",
    "    plt.figure(figsize=(4.5,3.5))\n",
    "    sns.heatmap(cm, annot=True, fmt=\"d\", cmap=\"Blues\",\n",
    "                xticklabels=labels_order, yticklabels=labels_order)\n",
    "    plt.xlabel(\"Predicted\")\n",
    "    plt.ylabel(\"True\")\n",
    "    plt.title(title)\n",
    "    plt.show()\n",
    "\n",
    "for name, y_pred in models_preds.items():\n",
    "    # accuracy\n",
    "    acc = accuracy_score(y_test, y_pred)\n",
    "    # macro and weighted precision/recall/f1\n",
    "    prec_macro, rec_macro, f1_macro, _ = precision_recall_fscore_support(y_test, y_pred, average=\"macro\")\n",
    "    prec_weight, rec_weight, f1_weight, _ = precision_recall_fscore_support(y_test, y_pred, average=\"weighted\")\n",
    "    # per-class metrics (order: positive, negative)\n",
    "    per_prec, per_rec, per_f1, support = precision_recall_fscore_support(y_test, y_pred, labels=[\"positive\",\"negative\"])\n",
    "    pos_prec, neg_prec = per_prec[0], per_prec[1]\n",
    "    pos_rec, neg_rec = per_rec[0], per_rec[1]\n",
    "    pos_f1,  neg_f1  = per_f1[0], per_f1[1]\n",
    "\n",
    "    # print human-friendly report\n",
    "    print(\"\\n\" + \"=\"*60)\n",
    "    print(f\"Modelo: {name}\")\n",
    "    print(f\"Accuracy: {acc:.4f}\")\n",
    "    print(f\"Macro - Precision: {prec_macro:.4f}  Recall: {rec_macro:.4f}  F1: {f1_macro:.4f}\")\n",
    "    print(f\"Weighted - Precision: {prec_weight:.4f}  Recall: {rec_weight:.4f}  F1: {f1_weight:.4f}\")\n",
    "    print(\"\\nPer-class (positive / negative):\")\n",
    "    print(f\" Precision: {pos_prec:.4f} / {neg_prec:.4f}\")\n",
    "    print(f\" Recall:    {pos_rec:.4f} / {neg_rec:.4f}\")\n",
    "    print(f\" F1-score:  {pos_f1:.4f} / {neg_f1:.4f}\")\n",
    "    print(\"\\nClassification report:\\n\")\n",
    "    print(classification_report(y_test, y_pred, labels=[\"positive\",\"negative\"]))\n",
    "    print(\"=\"*60)\n",
    "\n",
    "    # add to summary table\n",
    "    summary_rows.append({\n",
    "        \"model\": name,\n",
    "        \"accuracy\": acc,\n",
    "        \"precision_macro\": prec_macro,\n",
    "        \"recall_macro\": rec_macro,\n",
    "        \"f1_macro\": f1_macro,\n",
    "        \"precision_weighted\": prec_weight,\n",
    "        \"recall_weighted\": rec_weight,\n",
    "        \"f1_weighted\": f1_weight,\n",
    "        \"pos_precision\": pos_prec,\n",
    "        \"pos_recall\": pos_rec,\n",
    "        \"pos_f1\": pos_f1,\n",
    "        \"neg_precision\": neg_prec,\n",
    "        \"neg_recall\": neg_rec,\n",
    "        \"neg_f1\": neg_f1\n",
    "    })\n",
    "\n",
    "    # show confusion matrix for this model\n",
    "    print_cm(y_test, y_pred, f\"Confusion matrix - {name}\")\n",
    "\n",
    "# show summary dataframe\n",
    "summary_df = pd.DataFrame(summary_rows).set_index(\"model\")\n",
    "display(summary_df.round(4))\n"
   ]
  },
  {
   "cell_type": "markdown",
   "id": "8410b19b",
   "metadata": {},
   "source": [
    "### <font color= #d4b1e6> **Análisis de Error** </font> "
   ]
  },
  {
   "cell_type": "code",
   "execution_count": 18,
   "id": "3e7a3b34",
   "metadata": {},
   "outputs": [
    {
     "name": "stdout",
     "output_type": "stream",
     "text": [
      "Total errores: 2473\n",
      "================================================================================\n",
      "🔹 Review original:\n",
      "Ah, here it is! A movie, which is said by people to remind me of the epic \"Trainspotting\". OUCH, was I a fool to believe that, and OUCH, how my buttocks hurt after having forced myself to watch this c**p from beginning to end. After the first 10-15 minutes I just wanted it all to end, or at least they could've put some nudity or action or cool acid house music into it to make it worth the time... But no, when I was through with it, i put it into my CD shelf and I hope I will never have to pick it out again just to show it to some friend who is so anxious to see it that he/she don't want to listen to my warnings.\n",
      "✅ Sentiment real: negative\n",
      "❌ Predicción modelo: positive\n",
      "================================================================================\n",
      "🔹 Review original:\n",
      "In this early Fulci work the director shows his most mainstream side as well as a talent for compelling storytelling and more than reasonable elucidation for the genre. Personally I think he has been unfairly maligned throughout his career as an aesthete of gore. It's a pretty capable procedural and surprised me with its subtextually rich narrative that shows his distrust for small minded small-town mentality and the inefficiency of the police, as well as the twisted ideals of the Catholic church, the last of which seemed to have cut this film at its knees when it was first released and could have possibly given the director another direction so early on. The comparative lack of gore in the film shows a more urgent and psychological imperative to this film in its prevailing \"mystery\" but the gore and puppetry he does utilise is put to good use here most notably in the scene where a falsely accused murderer is senselessly lynched by a mob of men in a graveyard and left for dead in a show of vile and antiquated vigilantism, expertly choreographed to the modern tunes off a diegetic radio.<br /><br />Another example was the final scene (which was indeed awesome) in which a strikingly handsome priest falls from a cliff and the puppet used is markedly showed in a medium closeup which accentuated its demonic appearance and evident ugliness. Curiously, considering his later works, Fulci also invokes the idea of modernity seized upon the hamlet holding on to its anachronistic superstitions and ignorance when the idea of black magic is just that, a quaint idea of supernatural evil that never really ends up manifesting from the voodoo dolls while making its witch nothing more than a disturbed woman. Another thing I liked was that he adds to these character layers by making a bourgeois city girl into an ambiguous figure - is she the corrupter the priest fears for his wards and perhaps more tellingly, for himself? This giallo does lend itself to becoming one of Fulci's more personal and substantive films, in that we actually get a fair influx of ideas from him.\n",
      "✅ Sentiment real: positive\n",
      "❌ Predicción modelo: negative\n",
      "================================================================================\n",
      "🔹 Review original:\n",
      "<br /><br />Never ever take a film just for its good looking title.<br /><br />Although it all starts well, the film suffers the same imperfections you see in B-films. Its like at a certain moment the writer does not any more how to end the film, so he ends it in a way nobody suspects it thinking this way he is ingenious.<br /><br />A film to be listed on top of the garbage list.<br /><br />\n",
      "✅ Sentiment real: negative\n",
      "❌ Predicción modelo: positive\n",
      "================================================================================\n",
      "🔹 Review original:\n",
      "Imagine an exploitive remake of The Defiant Ones with a black chick and a white chick attached to each other. Set the story on some Caribbean island where the drug dealers rule and the revolution has arrived. And have the black woman be from Huggy Bear's stable of ladies and the white woman be a watered down Patty Hearst and you've got Black Mama, White Mama.<br /><br />In those waning days of the drive-in theater this item must have been a big old hit. All the hot buttons of the Seventies are pushed in this one. Even though they both fill out their clothes better and will get a few whistles from the males in the audience no one is ever going to mistake Pam Grier and Margaret Markov for Sidney Poitier and Tony Curtis. All right, Halle Berry and Jamie Lee Curtis.<br /><br />Margaret and Pam are prisoners where the guards and the warden look lasciviously at the new fish arriving. Margaret is a rich girl from the state who took up 'the revolution', whilst Pam's your basic high priced call girl who's been servicing the local drug kingpin and grew tired of it and tried to leave the island.<br /><br />Margaret's fellow revolutionaries ambush the bus transporting them from the women's prison to town, but they get lost in the escape. Both have their different agendas, but like Sid and Tony they can't quite agree on whose agenda comes first. Makes for some interesting times as the police, the drug dealers, and the revolutionaries are all looking for these two illfated chain buddies.<br /><br />Just so you don't get any wrong ideas the head of the revolutionaries and Markov's kanoodling partner is named Ernesto played by Filipino actor Zaldy Zshornack. The whole mess was shot in the Phillipines who were getting their own film industry started.<br /><br />Nice location photography in the Phillipines is all that Black Mama, White Mam has to recommend it. But if you're a fan of really bad black exploitation flicks, this is one for you.\n",
      "✅ Sentiment real: negative\n",
      "❌ Predicción modelo: positive\n",
      "================================================================================\n",
      "🔹 Review original:\n",
      "like i'm sure other people have said this guy isn't a very worthwhile subject. sure, our society has a morbid fascination with death, and it's funny hearing him talk about how much he smokes and how much coffee he drinks, but he's into giving himself an unworthy mystique. anyway, the bottom line is that he's a moron racist using feeble methods to try to disprove the mountain of evidence of the holocaust, and as such he should be forgotten by time. but Morris is in love with any kind of curiosities, which normally i wouldn't fault him for.\n",
      "✅ Sentiment real: negative\n",
      "❌ Predicción modelo: positive\n"
     ]
    }
   ],
   "source": [
    "# Escogemos un modelo para analizar (ej. Logistic Regression)\n",
    "y_pred = y_pred_logreg  \n",
    "\n",
    "# Encuentra índices de errores\n",
    "errores_idx = [i for i, (y_true, y_hat) in enumerate(zip(y_test, y_pred)) if y_true != y_hat]\n",
    "\n",
    "print(\"Total errores:\", len(errores_idx))\n",
    "\n",
    "# Muestra algunos ejemplos al azar usando el texto original\n",
    "for i in random.sample(errores_idx, 5):\n",
    "    print(\"=\"*80)\n",
    "    print(\"🔹 Review original:\")\n",
    "    print(test_df.iloc[i][\"review\"])   # aquí usamos test_df, no X_test\n",
    "    print(\"✅ Sentiment real:\", test_df.iloc[i][\"sentiment\"])\n",
    "    print(\"❌ Predicción modelo:\", y_pred[i])"
   ]
  }
 ],
 "metadata": {
  "kernelspec": {
   "display_name": "iteso",
   "language": "python",
   "name": "python3"
  },
  "language_info": {
   "codemirror_mode": {
    "name": "ipython",
    "version": 3
   },
   "file_extension": ".py",
   "mimetype": "text/x-python",
   "name": "python",
   "nbconvert_exporter": "python",
   "pygments_lexer": "ipython3",
   "version": "3.10.13"
  }
 },
 "nbformat": 4,
 "nbformat_minor": 5
}
