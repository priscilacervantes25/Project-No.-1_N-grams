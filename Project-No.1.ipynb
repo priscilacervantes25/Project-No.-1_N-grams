{
 "cells": [
  {
   "cell_type": "markdown",
   "id": "3d3a6ddb",
   "metadata": {},
   "source": [
    "___\n",
    "# <font color= #d4b1e6> **Proyecto 1: Análisis de Sentimientos** </font>\n",
    "- <Strong> Nombre de los integrantes: </Strong>  <font color=\"blue\">`Sarah Lucía Beltrán, Priscila Cervantes Ramírez & Mónica Ibarra Herrera` </font>\n",
    "- <Strong> Materia: </Strong>  <font color=\"blue\">`Minería de Textos` </font>\n",
    "___"
   ]
  },
  {
   "cell_type": "markdown",
   "id": "4343c92d",
   "metadata": {},
   "source": [
    "A continuación se trabajará con un dataset que contiene reseñas de películas que están etiquetadas como positivas y negativas.\n",
    "\n",
    "En este proyecto se implementarán y compararán modelos basados en n-grams (unigramas, bigramas y trigramas) enfocados en la clasificación de texto. El objetivo es evaluar cómo los diferentes tamaños de n-gramas influyen en el desempeño de los algoritmos que se emplearán. \n",
    "\n",
    "Los modelos que se incluirán son los siguientes:\n",
    "- Regresión Logística \n",
    "- Naive Bayes\n",
    "- SVM\n",
    "\n",
    "Para cada uno de los modelos mencionados anteriormente se obtendrán diferentes métricas como Accuracy, Precision, Recall y F1-Score.\n",
    "\n",
    "Se harán evaluaciones y se determinará cuál fue el modelo con el mejor desempeño, así como se revisarán algunos errores que hicieron los modelos para identificar por qué predijo mal, ya sea porque la reseña era de sarcasmo, negación, etc."
   ]
  },
  {
   "cell_type": "markdown",
   "id": "cf4f66ec",
   "metadata": {},
   "source": [
    "### <font color= #d4b1e6> **Librerías a utilizar** </font>"
   ]
  },
  {
   "cell_type": "code",
   "execution_count": 20,
   "id": "0590b7dd",
   "metadata": {},
   "outputs": [],
   "source": [
    "import pandas as pd\n",
    "import numpy as np\n",
    "from sklearn.model_selection import train_test_split\n",
    "import re\n",
    "import nltk\n",
    "from nltk.tokenize import word_tokenize\n",
    "from nltk.corpus import stopwords\n",
    "import string\n",
    "from sklearn.feature_extraction.text import CountVectorizer\n",
    "from sklearn.linear_model import LogisticRegression\n",
    "from sklearn.naive_bayes import MultinomialNB\n",
    "from sklearn.svm import LinearSVC\n",
    "from sklearn.metrics import accuracy_score, classification_report\n",
    "import matplotlib.pyplot as plt\n",
    "import seaborn as sns\n",
    "from sklearn.metrics import (\n",
    "    accuracy_score,\n",
    "    precision_recall_fscore_support,\n",
    "    classification_report,\n",
    "    confusion_matrix\n",
    ")\n",
    "import matplotlib.pyplot as plt\n",
    "import seaborn as sns\n",
    "import random"
   ]
  },
  {
   "cell_type": "markdown",
   "id": "ed5b2fde",
   "metadata": {},
   "source": [
    "### <font color= #d4b1e6> **Importación de los datos** </font>"
   ]
  },
  {
   "cell_type": "code",
   "execution_count": 21,
   "id": "bef12b9d",
   "metadata": {},
   "outputs": [
    {
     "data": {
      "text/html": [
       "<div>\n",
       "<style scoped>\n",
       "    .dataframe tbody tr th:only-of-type {\n",
       "        vertical-align: middle;\n",
       "    }\n",
       "\n",
       "    .dataframe tbody tr th {\n",
       "        vertical-align: top;\n",
       "    }\n",
       "\n",
       "    .dataframe thead th {\n",
       "        text-align: right;\n",
       "    }\n",
       "</style>\n",
       "<table border=\"1\" class=\"dataframe\">\n",
       "  <thead>\n",
       "    <tr style=\"text-align: right;\">\n",
       "      <th></th>\n",
       "      <th>review</th>\n",
       "      <th>sentiment</th>\n",
       "    </tr>\n",
       "  </thead>\n",
       "  <tbody>\n",
       "    <tr>\n",
       "      <th>0</th>\n",
       "      <td>One of the other reviewers has mentioned that ...</td>\n",
       "      <td>positive</td>\n",
       "    </tr>\n",
       "    <tr>\n",
       "      <th>1</th>\n",
       "      <td>A wonderful little production. &lt;br /&gt;&lt;br /&gt;The...</td>\n",
       "      <td>positive</td>\n",
       "    </tr>\n",
       "    <tr>\n",
       "      <th>2</th>\n",
       "      <td>I thought this was a wonderful way to spend ti...</td>\n",
       "      <td>positive</td>\n",
       "    </tr>\n",
       "    <tr>\n",
       "      <th>3</th>\n",
       "      <td>Basically there's a family where a little boy ...</td>\n",
       "      <td>negative</td>\n",
       "    </tr>\n",
       "    <tr>\n",
       "      <th>4</th>\n",
       "      <td>Petter Mattei's \"Love in the Time of Money\" is...</td>\n",
       "      <td>positive</td>\n",
       "    </tr>\n",
       "  </tbody>\n",
       "</table>\n",
       "</div>"
      ],
      "text/plain": [
       "                                              review sentiment\n",
       "0  One of the other reviewers has mentioned that ...  positive\n",
       "1  A wonderful little production. <br /><br />The...  positive\n",
       "2  I thought this was a wonderful way to spend ti...  positive\n",
       "3  Basically there's a family where a little boy ...  negative\n",
       "4  Petter Mattei's \"Love in the Time of Money\" is...  positive"
      ]
     },
     "execution_count": 21,
     "metadata": {},
     "output_type": "execute_result"
    }
   ],
   "source": [
    "df = pd.read_csv('IMDB Dataset.csv')\n",
    "df.head()"
   ]
  },
  {
   "cell_type": "markdown",
   "id": "c6e2f699",
   "metadata": {},
   "source": [
    "*Visualizar que no haya valores nulos*"
   ]
  },
  {
   "cell_type": "code",
   "execution_count": 22,
   "id": "98b7c28c",
   "metadata": {},
   "outputs": [
    {
     "name": "stdout",
     "output_type": "stream",
     "text": [
      "<class 'pandas.core.frame.DataFrame'>\n",
      "RangeIndex: 50000 entries, 0 to 49999\n",
      "Data columns (total 2 columns):\n",
      " #   Column     Non-Null Count  Dtype \n",
      "---  ------     --------------  ----- \n",
      " 0   review     50000 non-null  object\n",
      " 1   sentiment  50000 non-null  object\n",
      "dtypes: object(2)\n",
      "memory usage: 781.4+ KB\n"
     ]
    }
   ],
   "source": [
    "df.info()"
   ]
  },
  {
   "cell_type": "markdown",
   "id": "7637028f",
   "metadata": {},
   "source": [
    "### <font color= #d4b1e6> **División train/test** </font>"
   ]
  },
  {
   "cell_type": "code",
   "execution_count": 23,
   "id": "620572cc",
   "metadata": {},
   "outputs": [
    {
     "name": "stdout",
     "output_type": "stream",
     "text": [
      "Tamaño train: 25000\n",
      "Tamaño test: 25000\n"
     ]
    }
   ],
   "source": [
    "train_df, test_df = train_test_split(df, test_size=0.5, random_state=42, stratify=df['sentiment'])\n",
    "\n",
    "print(\"Tamaño train:\", len(train_df))\n",
    "print(\"Tamaño test:\", len(test_df))\n"
   ]
  },
  {
   "cell_type": "markdown",
   "id": "b6caf9a9",
   "metadata": {},
   "source": [
    "Se usarán el 50% es decir 25,000 reseñas para entrenar a los modelos y las reseñas restantes, se usarán para probar su rendimiento."
   ]
  },
  {
   "cell_type": "markdown",
   "id": "d24b4eba",
   "metadata": {},
   "source": [
    "### <font color= #d4b1e6> **Pre-Procesamiento** </font>"
   ]
  },
  {
   "cell_type": "code",
   "execution_count": 24,
   "id": "8cd1373e",
   "metadata": {},
   "outputs": [
    {
     "name": "stderr",
     "output_type": "stream",
     "text": [
      "[nltk_data] Downloading package punkt to\n",
      "[nltk_data]     C:\\Users\\cesar\\AppData\\Roaming\\nltk_data...\n",
      "[nltk_data]   Package punkt is already up-to-date!\n",
      "[nltk_data] Downloading package punkt_tab to\n",
      "[nltk_data]     C:\\Users\\cesar\\AppData\\Roaming\\nltk_data...\n",
      "[nltk_data]   Package punkt_tab is already up-to-date!\n",
      "[nltk_data] Downloading package stopwords to\n",
      "[nltk_data]     C:\\Users\\cesar\\AppData\\Roaming\\nltk_data...\n",
      "[nltk_data]   Package stopwords is already up-to-date!\n"
     ]
    },
    {
     "data": {
      "text/plain": [
       "True"
      ]
     },
     "execution_count": 24,
     "metadata": {},
     "output_type": "execute_result"
    }
   ],
   "source": [
    "nltk.download('punkt')\n",
    "nltk.download('punkt_tab')\n",
    "nltk.download(\"stopwords\")"
   ]
  },
  {
   "cell_type": "markdown",
   "id": "2394d58b",
   "metadata": {},
   "source": [
    "Se utilizó la librería NLTK (Natural Language Toolkit) para realizar la tokenización del texto. Para ello fue necesario descargar los recursos *punkt*, *punkt_tab* y *stopwords*.\n",
    "\n",
    "- *punkt* permite dividir de manera automática un texto en oraciones y palabras (tokens). \n",
    "\n",
    "- *punkt_tab* contiene información extra para que funcione de manera correcta el tokenizador.\n",
    "\n",
    "- *stopwords* que contiene un listado de palabras muy frecuentes en el idioma (como the, is, and) que suelen eliminarse por no aportar valor al analizar texto.\n",
    "\n",
    "De esta forma, se asegura que cada reseña se transforme en una secuencia de palabras significativas antes de construir representaciones con n-gramas."
   ]
  },
  {
   "cell_type": "markdown",
   "id": "65595f1d",
   "metadata": {},
   "source": [
    "*Limpieza de reseñas*"
   ]
  },
  {
   "cell_type": "code",
   "execution_count": 25,
   "id": "f65f1bb1",
   "metadata": {},
   "outputs": [],
   "source": [
    "STOPWORDS = set(stopwords.words(\"english\"))\n",
    "PUNCT_TABLE = str.maketrans(\"\", \"\", string.punctuation)"
   ]
  },
  {
   "cell_type": "markdown",
   "id": "f0ee1c3e",
   "metadata": {},
   "source": [
    "- *STOPWORDS* importa una lista de stopwords en inglés desde NLTK y las convierte en un conjunto para que las búsquedas sean más rápidas cuando se filtre texto.\n",
    "- *PUNCT_TABLE* crea una tabla de traducción que sirve para eliminar todos los signos de puntuación, limpia el texto quitando las puntuaciones."
   ]
  },
  {
   "cell_type": "code",
   "execution_count": 26,
   "id": "af3a1222",
   "metadata": {},
   "outputs": [
    {
     "data": {
      "text/html": [
       "<div>\n",
       "<style scoped>\n",
       "    .dataframe tbody tr th:only-of-type {\n",
       "        vertical-align: middle;\n",
       "    }\n",
       "\n",
       "    .dataframe tbody tr th {\n",
       "        vertical-align: top;\n",
       "    }\n",
       "\n",
       "    .dataframe thead th {\n",
       "        text-align: right;\n",
       "    }\n",
       "</style>\n",
       "<table border=\"1\" class=\"dataframe\">\n",
       "  <thead>\n",
       "    <tr style=\"text-align: right;\">\n",
       "      <th></th>\n",
       "      <th>review</th>\n",
       "      <th>sentiment</th>\n",
       "      <th>clean_review</th>\n",
       "    </tr>\n",
       "  </thead>\n",
       "  <tbody>\n",
       "    <tr>\n",
       "      <th>3055</th>\n",
       "      <td>Trio's vignettes were insightful and quite enj...</td>\n",
       "      <td>positive</td>\n",
       "      <td>trio 's vignettes were insightful and quite en...</td>\n",
       "    </tr>\n",
       "    <tr>\n",
       "      <th>47326</th>\n",
       "      <td>I had never heard of this one before the owner...</td>\n",
       "      <td>negative</td>\n",
       "      <td>i had never heard of this one before the owner...</td>\n",
       "    </tr>\n",
       "    <tr>\n",
       "      <th>48869</th>\n",
       "      <td>This is an excellent but hard to find trippy W...</td>\n",
       "      <td>positive</td>\n",
       "      <td>this is an excellent but hard to find trippy w...</td>\n",
       "    </tr>\n",
       "    <tr>\n",
       "      <th>48623</th>\n",
       "      <td>I am a huge fan of big, loud, trashy, complete...</td>\n",
       "      <td>positive</td>\n",
       "      <td>i am a huge fan of big loud trashy completely ...</td>\n",
       "    </tr>\n",
       "    <tr>\n",
       "      <th>39657</th>\n",
       "      <td>Easily Lucio Fulci's most respected film, \"Don...</td>\n",
       "      <td>positive</td>\n",
       "      <td>easily lucio fulci 's most respected film do n...</td>\n",
       "    </tr>\n",
       "  </tbody>\n",
       "</table>\n",
       "</div>"
      ],
      "text/plain": [
       "                                                  review sentiment  \\\n",
       "3055   Trio's vignettes were insightful and quite enj...  positive   \n",
       "47326  I had never heard of this one before the owner...  negative   \n",
       "48869  This is an excellent but hard to find trippy W...  positive   \n",
       "48623  I am a huge fan of big, loud, trashy, complete...  positive   \n",
       "39657  Easily Lucio Fulci's most respected film, \"Don...  positive   \n",
       "\n",
       "                                            clean_review  \n",
       "3055   trio 's vignettes were insightful and quite en...  \n",
       "47326  i had never heard of this one before the owner...  \n",
       "48869  this is an excellent but hard to find trippy w...  \n",
       "48623  i am a huge fan of big loud trashy completely ...  \n",
       "39657  easily lucio fulci 's most respected film do n...  "
      ]
     },
     "execution_count": 26,
     "metadata": {},
     "output_type": "execute_result"
    }
   ],
   "source": [
    "def preprocess_text(text, remove_stopwords=False):\n",
    "    # Minúsculas\n",
    "    text = text.lower()\n",
    "    # Eliminar HTML\n",
    "    text = re.sub(r\"<.*?>\", \" \", text)\n",
    "    # Tokenizar\n",
    "    tokens = word_tokenize(text)\n",
    "    # Eliminar tokens que no son alfanuméricos\n",
    "    tokens = [t for t in tokens if any(c.isalnum() for c in t)]\n",
    "    # Eliminar stopwords si se requiere\n",
    "    if remove_stopwords:\n",
    "        tokens = [t for t in tokens if t not in STOPWORDS]\n",
    "    return \" \".join(tokens)\n",
    "\n",
    "# Aplicamos a train y test\n",
    "train_df[\"clean_review\"] = train_df[\"review\"].apply(lambda x: preprocess_text(x, remove_stopwords=False))\n",
    "test_df[\"clean_review\"] = test_df[\"review\"].apply(lambda x: preprocess_text(x, remove_stopwords=False))\n",
    "\n",
    "train_df.head()"
   ]
  },
  {
   "cell_type": "markdown",
   "id": "41cd9937",
   "metadata": {},
   "source": [
    "Se implementa una función de preprocesamiento de texto que:\n",
    "\n",
    "1) Convierte todo a minúsculas.\n",
    "\n",
    "2) Elimina etiquetas HTML.\n",
    "\n",
    "3) Tokeniza las reseñas en palabras individuales.\n",
    "\n",
    "4) Filtra tokens que no son letras o números como signos de puntuación\n",
    "\n",
    "5) Opcionalmente elimina stopwords.\n",
    "\n",
    "Se decidió no eliminar las stopwords durante el preprocesamiento, ya que en análisis de sentimientos estas palabras pueden cambiar el significado de una oración. Palabras como ‘not’, ‘never’ o ‘don’t’ son esenciales para que el modelo identifique correctamente si la reseña es positiva o negativa. \n",
    "\n",
    "De esta manera, se obtiene una columna clean_review con texto más limpio y normalizado, que facilita el posterior análisis y entrenamiento del modelo de clasificación."
   ]
  },
  {
   "cell_type": "markdown",
   "id": "4a1e1054",
   "metadata": {},
   "source": [
    "*Extracción de características*"
   ]
  },
  {
   "cell_type": "code",
   "execution_count": 27,
   "id": "4ff9a513",
   "metadata": {},
   "outputs": [
    {
     "name": "stdout",
     "output_type": "stream",
     "text": [
      "Shape X_train: (25000, 50000)\n",
      "Shape X_test: (25000, 50000)\n"
     ]
    }
   ],
   "source": [
    "# Definir el vectorizador con unigramas, bigramas y trigramas\n",
    "vectorizer = CountVectorizer(ngram_range=(1,3), max_features=50000) # max_features: limita vocabulario para no explotar la RAM\n",
    "\n",
    "#  Ajustar al train y transformar\n",
    "X_train = vectorizer.fit_transform(train_df[\"clean_review\"])\n",
    "X_test = vectorizer.transform(test_df[\"clean_review\"])\n",
    "\n",
    "y_train = train_df[\"sentiment\"]\n",
    "y_test = test_df[\"sentiment\"]\n",
    "\n",
    "print(\"Shape X_train:\", X_train.shape)\n",
    "print(\"Shape X_test:\", X_test.shape)"
   ]
  },
  {
   "cell_type": "markdown",
   "id": "131b7ec2",
   "metadata": {},
   "source": [
    "Para representar las reseñas se utilizó un CountVectorizer de Scikit-learn para extraer unigramas, bigramas y trigramas. Esto significa que cada reseña se transforma en un vector que refleja la frecuencia de palabras individuales y combinaciones de dos o tres palabras consecutivas. Se limitó el vocabulario a 50,000 características para reducir el consumo de memoria.\n",
    "\n",
    "El vectorizador se ajusta al conjunto de entrenamiento y luego se aplica al conjunto de prueba usando el mismo vocabulario aprendido, asegurando que la evaluación sea consistente. Las etiquetas de sentimiento se almacenan por separado en y_train y y_test, y las dimensiones de las matrices resultantes reflejan el número de reseñas y la cantidad de n-gramas considerados."
   ]
  },
  {
   "cell_type": "markdown",
   "id": "a19a8372",
   "metadata": {},
   "source": [
    "### <font color= #d4b1e6> **Entrenamiento de Modelos** </font> "
   ]
  },
  {
   "cell_type": "markdown",
   "id": "ef25d3f4",
   "metadata": {},
   "source": [
    "#### <font color= #96d9cf> **Regresión Logística** </font> "
   ]
  },
  {
   "cell_type": "code",
   "execution_count": 28,
   "id": "5e6cd7c2",
   "metadata": {},
   "outputs": [
    {
     "name": "stderr",
     "output_type": "stream",
     "text": [
      "c:\\Users\\cesar\\anaconda3\\envs\\iteso\\lib\\site-packages\\sklearn\\linear_model\\_sag.py:349: ConvergenceWarning: The max_iter was reached which means the coef_ did not converge\n",
      "  warnings.warn(\n"
     ]
    }
   ],
   "source": [
    "logreg = LogisticRegression(max_iter=1000, solver=\"saga\")\n",
    "logreg.fit(X_train, y_train)\n",
    "y_pred_logreg = logreg.predict(X_test)"
   ]
  },
  {
   "cell_type": "markdown",
   "id": "625ebf08",
   "metadata": {},
   "source": [
    "*Explicación de hiperparámetros*\n",
    "\n",
    "Para entrenar el modelo de Regresión Logística se utilizó LogisticRegression de Scikit-learn con los hiperparámetros max_iter=1000 y solver=\"saga\".\n",
    "\n",
    "- *max_iter* de 1000 para asegurar que el algoritmo converja, dado el tamaño y la alta dimensionalidad de los datos de n-grams.\n",
    "\n",
    "- *solver=\"saga\"* fue elegido por su eficiencia con matrices dispersas y por su capacidad de manejar regularización L1 y L2, características útiles para textos con muchas características."
   ]
  },
  {
   "cell_type": "markdown",
   "id": "483a30e2",
   "metadata": {},
   "source": [
    "#### <font color= #96d9cf> **Naive Bayes** </font>"
   ]
  },
  {
   "cell_type": "code",
   "execution_count": 29,
   "id": "fc34276c",
   "metadata": {},
   "outputs": [],
   "source": [
    "nb = MultinomialNB()\n",
    "nb.fit(X_train, y_train)\n",
    "y_pred_nb = nb.predict(X_test)"
   ]
  },
  {
   "cell_type": "markdown",
   "id": "6d09e69e",
   "metadata": {},
   "source": [
    "Se entrenó un modelo Naive Bayes multinomial para clasificar las reseñas en positivas o negativas. Este modelo es adecuado para datos de conteo, como los vectores de n-grams, ya que estima la probabilidad de cada palabra dado el sentimiento de la reseña."
   ]
  },
  {
   "cell_type": "markdown",
   "id": "c0c60634",
   "metadata": {},
   "source": [
    "#### <font color= #96d9cf> **SVM** </font>"
   ]
  },
  {
   "cell_type": "code",
   "execution_count": 30,
   "id": "113df1be",
   "metadata": {},
   "outputs": [],
   "source": [
    "svm = LinearSVC(C=0.001)\n",
    "svm.fit(X_train, y_train)\n",
    "y_pred_svm = svm.predict(X_test)"
   ]
  },
  {
   "cell_type": "markdown",
   "id": "2fe9e5e6",
   "metadata": {},
   "source": [
    "Se utilizó Support Vector Machine Lineal, adecuado para matrices dispersas de alta dimensionalidad como las obtenidas con n-grams. \n",
    "\n",
    "*Explicación de hiperparámetros*:\n",
    "\n",
    "- C: controla la regularización y penalización de errores.\n"
   ]
  },
  {
   "cell_type": "markdown",
   "id": "bacb63bc",
   "metadata": {},
   "source": [
    "### <font color= #d4b1e6> **Evaluación** </font> "
   ]
  },
  {
   "cell_type": "code",
   "execution_count": 31,
   "id": "7505446c",
   "metadata": {},
   "outputs": [],
   "source": [
    "def plot_confusion(y_true, y_pred, title):\n",
    "    cm = confusion_matrix(y_true, y_pred, labels=[\"positive\", \"negative\"])\n",
    "    plt.figure(figsize=(5,4))\n",
    "    sns.heatmap(cm, annot=True, fmt=\"d\", cmap=\"Blues\",\n",
    "                xticklabels=[\"positive\", \"negative\"],\n",
    "                yticklabels=[\"positive\", \"negative\"])\n",
    "    plt.xlabel(\"Predicted\")\n",
    "    plt.ylabel(\"True\")\n",
    "    plt.title(title)\n",
    "    plt.show()"
   ]
  },
  {
   "cell_type": "markdown",
   "id": "563889b2",
   "metadata": {},
   "source": [
    "#### <font color= #96d9cf> **Regresión Logística** </font> "
   ]
  },
  {
   "cell_type": "code",
   "execution_count": 32,
   "id": "cf5ce645",
   "metadata": {},
   "outputs": [
    {
     "name": "stdout",
     "output_type": "stream",
     "text": [
      "Logistic Regression\n",
      "Accuracy: 0.90108\n",
      "              precision    recall  f1-score   support\n",
      "\n",
      "    negative       0.91      0.90      0.90     12500\n",
      "    positive       0.90      0.91      0.90     12500\n",
      "\n",
      "    accuracy                           0.90     25000\n",
      "   macro avg       0.90      0.90      0.90     25000\n",
      "weighted avg       0.90      0.90      0.90     25000\n",
      "\n"
     ]
    }
   ],
   "source": [
    "print(\"Logistic Regression\")\n",
    "print(\"Accuracy:\", accuracy_score(y_test, y_pred_logreg))\n",
    "print(classification_report(y_test, y_pred_logreg))"
   ]
  },
  {
   "cell_type": "code",
   "execution_count": 33,
   "id": "76042b06",
   "metadata": {},
   "outputs": [
    {
     "data": {
      "image/png": "[encoded data removed]",
      "text/plain": [
       "<Figure size 500x400 with 2 Axes>"
      ]
     },
     "metadata": {},
     "output_type": "display_data"
    }
   ],
   "source": [
    "plot_confusion(y_test, y_pred_logreg, \"Confusion Matrix - Logistic Regression\")"
   ]
  },
  {
   "cell_type": "markdown",
   "id": "813581b7",
   "metadata": {},
   "source": [
    "#### <font color= #96d9cf> **Naive Bayes** </font>"
   ]
  },
  {
   "cell_type": "code",
   "execution_count": 34,
   "id": "08a565fc",
   "metadata": {},
   "outputs": [
    {
     "name": "stdout",
     "output_type": "stream",
     "text": [
      "Naive Bayes\n",
      "Accuracy: 0.86692\n",
      "              precision    recall  f1-score   support\n",
      "\n",
      "    negative       0.87      0.87      0.87     12500\n",
      "    positive       0.87      0.87      0.87     12500\n",
      "\n",
      "    accuracy                           0.87     25000\n",
      "   macro avg       0.87      0.87      0.87     25000\n",
      "weighted avg       0.87      0.87      0.87     25000\n",
      "\n"
     ]
    }
   ],
   "source": [
    "print(\"Naive Bayes\")\n",
    "print(\"Accuracy:\", accuracy_score(y_test, y_pred_nb))\n",
    "print(classification_report(y_test, y_pred_nb))"
   ]
  },
  {
   "cell_type": "code",
   "execution_count": 35,
   "id": "74aed4a7",
   "metadata": {},
   "outputs": [
    {
     "data": {
      "image/png": "[encoded data removed]",
      "text/plain": [
       "<Figure size 500x400 with 2 Axes>"
      ]
     },
     "metadata": {},
     "output_type": "display_data"
    }
   ],
   "source": [
    "plot_confusion(y_test, y_pred_nb, \"Confusion Matrix - Naive Bayes\")\n"
   ]
  },
  {
   "cell_type": "markdown",
   "id": "7ce6a183",
   "metadata": {},
   "source": [
    "#### <font color= #96d9cf> **SVM** </font>"
   ]
  },
  {
   "cell_type": "code",
   "execution_count": 36,
   "id": "1f4cad9c",
   "metadata": {},
   "outputs": [
    {
     "name": "stdout",
     "output_type": "stream",
     "text": [
      "SVM\n",
      "Accuracy: 0.8978\n",
      "              precision    recall  f1-score   support\n",
      "\n",
      "    negative       0.90      0.89      0.90     12500\n",
      "    positive       0.89      0.91      0.90     12500\n",
      "\n",
      "    accuracy                           0.90     25000\n",
      "   macro avg       0.90      0.90      0.90     25000\n",
      "weighted avg       0.90      0.90      0.90     25000\n",
      "\n"
     ]
    }
   ],
   "source": [
    "print(\"SVM\")\n",
    "print(\"Accuracy:\", accuracy_score(y_test, y_pred_svm))\n",
    "print(classification_report(y_test, y_pred_svm))"
   ]
  },
  {
   "cell_type": "code",
   "execution_count": 37,
   "id": "3a7a024a",
   "metadata": {},
   "outputs": [
    {
     "data": {
      "image/png": "[encoded data removed]",
      "text/plain": [
       "<Figure size 500x400 with 2 Axes>"
      ]
     },
     "metadata": {},
     "output_type": "display_data"
    }
   ],
   "source": [
    "plot_confusion(y_test, y_pred_svm, \"Confusion Matrix - SVM\")"
   ]
  },
  {
   "cell_type": "markdown",
   "id": "0187cba7",
   "metadata": {},
   "source": [
    "### <font color= #d4b1e6> **Comparación de resultados** </font> "
   ]
  },
  {
   "cell_type": "markdown",
   "id": "bcc7dc25",
   "metadata": {},
   "source": [
    "| Modelo | Accuracy | F1-Score | Precision | Recall |\n",
    "|------------|-------|-------|------|--------|\n",
    "| Regresión logística|0.901|0.9|0.9| 0.9| \n",
    "| Naive Bayes|0.866|0.87|0.87|0.87|    \n",
    "| SVM|0.8651|0.897|0.9|0.9|0.9|"
   ]
  },
  {
   "cell_type": "markdown",
   "id": "8410b19b",
   "metadata": {},
   "source": [
    "### <font color= #d4b1e6> **Análisis de Error** </font> "
   ]
  },
  {
   "cell_type": "code",
   "execution_count": 38,
   "id": "3e7a3b34",
   "metadata": {},
   "outputs": [
    {
     "name": "stdout",
     "output_type": "stream",
     "text": [
      "Total errores: 2473\n",
      "================================================================================\n",
      "🔹 Review original:\n",
      "This is a really well made movie. Sumitra Bhave has always made sensible cinema and this is my favourite film by her. This movie should have won the National Award and would have been my pick to represent India at the Oscars. It is at least a thousand times better than 'Shaaws', which is going to the Oscars, from India, this year.<br /><br />It is such a pity that the information about this (and all other Indian movies) on IMDb is lacking and sometimes even wrong. Sadashiv Amrapurkar played a very important character in this movie and he is not even credited on these pages. The rest of the cast and crew too are not mentioned at all. Awards and nominations for this movie are not given even when Sonali Kulkarni won the Indian National Award for this movie. There was not even a single vote cast for 'Doghi'.<br /><br />'Doghi' is not a Hindi movie. It is Marathi, and thankfully escapes the song and dance sequence, does not get tangled up in glitzy glamour and half-witted designer ware. It is a real life, soulful story that is made with a rare understanding and respect.<br /><br />'Doghi' which can roughly be translated as 'two women' is a story of two sisters, Gauri and Krishna. It is actually a very simple story, Sumitra Bhave does not venture into many sub plots, and that makes it a very difficult film to direct. The entire movie is set in a non-descript remote village in Maharashtra and the screen rarely ventures far from the house of the two female protagonists. No aesthetic sunsets in this one.<br /><br />The movie opens and we are introduced to the entire house, which is preparing for Gauri's wedding. Gauri and Krishna's father being a hard working farmer, the house is full and happy; there is nothing wanting in their simple lives. However on the eve of the wedding Gauri's to-be-husband meets with a fatal accident. Gauri's father cannot bear the tragic news and suffers a major stroke. Without a strong, working member the house could have fallen apart but Gauri's mother shoulders the responsibility. She works as and when she can, but cannot make ends meet. But her life still, is easier than Gauri's. Superstitions, that people half-heartedly try to forget, make Gauri an evil luck bringer. She is outcast from the society.<br /><br />Gauri's mother writes to her brother. Desperate for help she accepts his suggestion. He takes Gauri off to Mumbai where she is made to work in brothels. Gauri sends home the money she earns and their conditions improve. Gauri gives her life for that of her family's.<br /><br />However when Gauri returns home for Krishna's wedding, her mother does not come out to meet her. She does not allow Krishna near her and does not allow Gauri in front of the guests. She loves Gauri but fears for Krishna's life. This breaks Gauri completely and she decides to return to her unfortunate life. But Krishna runs out and holds Gauri. She begs her beloved sister to return. Krishna promises to stand by her. Promises that they would face the world  together.<br /><br />There is nothing that is not required in this movie. Everything is necessary and sufficient. Gauri goes off to Mumbai but what she does there is never told  the subtle dialogues tell us what there is to know. It just the bare story, which is profound in its simplicity.<br /><br />'Doghi' is responsible cinema. It is respectful to the subject it handles. It is respectful towards its audience  it does not think them to have the mental capability of a four year old.<br /><br />The acting is first rate. The direction is marvelous  the silences carry the story forward in a way, no words could have. The script is well researched.<br /><br />Anyone who appreciates good cinema is bound to like 'Doghi'.\n",
      "Sentiment real: positive\n",
      "Predicción modelo: negative\n",
      "================================================================================\n",
      "🔹 Review original:\n",
      "When two writers make a screenplay of a horror version of Breakfast At Tiffany's, you know something is going to go right. Drew Barrymore, Patrick Highsmith, Leslie Hope, and Sally Kellerman are excellent actors. The FBI agent was a terrible actor. The scenes where Patrick looked Holly up and down like some sort of objectifier, those was just weird. Drew Barrymore is very hot. Intimate Strangers, where Sally Kellerman worked, was a great part. The weird gummy worm was just weird. Nathan was a very handsome cat. But what was that scene where Patrick followed Holly into a cesspool and Mr. Gooding attacked him? And the scene with Dr. Wallace? What was he doing fumbling around in there? And not every male has a female, as Sally Kellerman stated. And when Patrick and Elizabeth saw Drew outside of Victor's, that was weird.\n",
      "Sentiment real: positive\n",
      "Predicción modelo: negative\n",
      "================================================================================\n",
      "🔹 Review original:\n",
      "I gave it a seven only because the acting is good. And of course by that I mean Wilkinson. The other two principals were \"decent\". But the characters themselves...what on earth was so bad about the character Wilkinson played (James Manning)? I didn't see him behaving like the martinet Emily Watson accused him of being. Bill Bule, on the other hand, was an insufferable jerk who I was praying would meet an extremely brutal and prolonged demise. Who was I kidding? Tom Wilkinson isn't Paul Bettany after all. So what on EARTH did Emily Watson's (Anne) character SEE in him???? She herself admitted he was pretty much a piece of offal in his treatment of her. Why would she even want to be in the same TOWN as him, to say nothing of the same \"room\".<br /><br />I noticed some other reviews, one person said she \"cried\" at the end, to witness James' tragedy. ??? WHAT tragedy? What, you mean losing an imbecile who finds someone like Bill Bule AMUSING???!!! Give us a break.\n",
      "Sentiment real: positive\n",
      "Predicción modelo: negative\n",
      "================================================================================\n",
      "🔹 Review original:\n",
      "Good Deaths. Good Mask. Cool Axe. Good Looking Girls....But Watch Out!!! No Plot and Little Scares Completely lower it's Standards. They Tried to make an \"I Know what you Did Last Summer\", but ended up making A \"Scream\". But Hey, What do people Expect From a Horror Movie? Answers Totally Vary. Rent It If You Want, but I Regret Ever Seeing It.\n",
      "Sentiment real: negative\n",
      "Predicción modelo: positive\n",
      "================================================================================\n",
      "🔹 Review original:\n",
      "Here is another great film critics will love. The problem is that it is not a very good movie.<br /><br />The films premise is simple. Nine convicts escape a prison after the tenth one goes crazy and tells them where the treasure is.<br /><br />The first half has a lot of slapstick some of it very broad while the second half is a character driven descent into fantasy and melancholy.<br /><br />The two halves simply don't mix. Individual scenes do work very well (The guys crashing a friends house who has a new Filipino bride is hilarious While a later scene with the big guy working in the restaurant tugs at the heartstrings.) They simply don't mesh with each other.<br /><br />The movie as well is missing entire set-ups. One scene shows the guys desperately looking for change under a deserted vending machine to buy a snack. The very next scene has the whole crew in drag sitting down in a restaurant. Where did they get the dresses and wigs? (The crew includes both the big guy and a midget) How did they get all the clothes and money to buy the meal? And most puzzling is why are they in drag? They are clearly guys in drag and lets face it is there anything more memorable to witnesses than a big guy and a dwarf eating a meal dressed as women? I mention the big guy and the dwarf because besides the old guy everyone else seems to blend into each other. (In fact they wear matching white jumpsuits throughout most of the movie) The movie has very little character development in the first half and as a result the second half really lacks an emotional punch. As we are often trying to figure out who is who in their individual payoff scenes.<br /><br />Speaking of a drag the second half has all those wonderful sweeping camera shots and big emotional moments and great symbolism that makes a great film. It is also excruciatingly slow which makes for a boring movie.<br /><br />9 Souls is a big disappointment, the reviews gush about a great film and it's in there somewhere, good luck finding it yourself.\n",
      "Sentiment real: negative\n",
      "Predicción modelo: positive\n"
     ]
    }
   ],
   "source": [
    "# Escogemos un modelo para analizar (ej. Logistic Regression)\n",
    "y_pred = y_pred_logreg  \n",
    "\n",
    "# Encuentra índices de errores\n",
    "errores_idx = [i for i, (y_true, y_hat) in enumerate(zip(y_test, y_pred)) if y_true != y_hat]\n",
    "\n",
    "print(\"Total errores:\", len(errores_idx))\n",
    "\n",
    "# Muestra algunos ejemplos al azar usando el texto original\n",
    "for i in random.sample(errores_idx, 5):\n",
    "    print(\"=\"*80)\n",
    "    print(\"🔹 Review original:\")\n",
    "    print(test_df.iloc[i][\"review\"])   # aquí usamos test_df, no X_test\n",
    "    print(\"Sentiment real:\", test_df.iloc[i][\"sentiment\"])\n",
    "    print(\"Predicción modelo:\", y_pred[i])"
   ]
  },
  {
   "cell_type": "markdown",
   "id": "0fecf129",
   "metadata": {},
   "source": [
    "### Conclusiones \n",
    "---\n",
    "Al final el modelo que arrojo mejores metricas fue la regresion logistica dandonos .901 de accuracy,0.9 de F1-score, 0.9 de precision y 0.9 de recall. Superando a los demas modelos por aproximadamente 0.04.\n",
    "\n",
    "Los errores en la prediccion se daban gracias a que le daba peso a las palabras negativas dentro de reseñas positivas, aunque solo se usen para describir escenas, personajes o incluso a la misma aplicación. Otro error, que va de la mano con el anterior, es que se deja guiar por las primeras palabras que hay en la reseña, por esto si una reseña empieza diciendo lo bueno para acabar diciendo que es la pero pelicula, el modelo no lo terminara de entender. También nos percatamos que cuando en una reseña existe ironia no logra comprenderla, asi como no distingue sentimientos hacia la pelicula con los elementos externos. En pocas palabras, el modelo analizaba superficialmente el texto en vez de comprender la intención completa del autor."
   ]
  }
 ],
 "metadata": {
  "kernelspec": {
   "display_name": "iteso",
   "language": "python",
   "name": "python3"
  },
  "language_info": {
   "codemirror_mode": {
    "name": "ipython",
    "version": 3
   },
   "file_extension": ".py",
   "mimetype": "text/x-python",
   "name": "python",
   "nbconvert_exporter": "python",
   "pygments_lexer": "ipython3",
   "version": "3.10.13"
  }
 },
 "nbformat": 4,
 "nbformat_minor": 5
}
