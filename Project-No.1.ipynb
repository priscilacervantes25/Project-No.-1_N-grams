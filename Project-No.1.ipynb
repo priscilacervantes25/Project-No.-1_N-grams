{
 "cells": [
  {
   "cell_type": "code",
   "execution_count": 41,
   "id": "0590b7dd",
   "metadata": {},
   "outputs": [],
   "source": [
    "import pandas as pd\n",
    "import numpy as np\n",
    "from sklearn.model_selection import train_test_split\n",
    "import re\n",
    "import nltk\n",
    "from nltk.tokenize import word_tokenize\n",
    "from nltk.corpus import stopwords\n",
    "import string\n",
    "from sklearn.feature_extraction.text import CountVectorizer\n",
    "from sklearn.linear_model import LogisticRegression\n",
    "from sklearn.naive_bayes import MultinomialNB\n",
    "from sklearn.svm import LinearSVC\n",
    "from sklearn.metrics import accuracy_score, classification_report\n",
    "import matplotlib.pyplot as plt\n",
    "import seaborn as sns\n",
    "from sklearn.metrics import (\n",
    "    accuracy_score,\n",
    "    precision_recall_fscore_support,\n",
    "    classification_report,\n",
    "    confusion_matrix\n",
    ")\n",
    "import matplotlib.pyplot as plt\n",
    "import seaborn as sns\n",
    "import random"
   ]
  },
  {
   "cell_type": "code",
   "execution_count": 19,
   "id": "bef12b9d",
   "metadata": {},
   "outputs": [
    {
     "data": {
      "text/html": [
       "<div>\n",
       "<style scoped>\n",
       "    .dataframe tbody tr th:only-of-type {\n",
       "        vertical-align: middle;\n",
       "    }\n",
       "\n",
       "    .dataframe tbody tr th {\n",
       "        vertical-align: top;\n",
       "    }\n",
       "\n",
       "    .dataframe thead th {\n",
       "        text-align: right;\n",
       "    }\n",
       "</style>\n",
       "<table border=\"1\" class=\"dataframe\">\n",
       "  <thead>\n",
       "    <tr style=\"text-align: right;\">\n",
       "      <th></th>\n",
       "      <th>review</th>\n",
       "      <th>sentiment</th>\n",
       "    </tr>\n",
       "  </thead>\n",
       "  <tbody>\n",
       "    <tr>\n",
       "      <th>0</th>\n",
       "      <td>One of the other reviewers has mentioned that ...</td>\n",
       "      <td>positive</td>\n",
       "    </tr>\n",
       "    <tr>\n",
       "      <th>1</th>\n",
       "      <td>A wonderful little production. &lt;br /&gt;&lt;br /&gt;The...</td>\n",
       "      <td>positive</td>\n",
       "    </tr>\n",
       "    <tr>\n",
       "      <th>2</th>\n",
       "      <td>I thought this was a wonderful way to spend ti...</td>\n",
       "      <td>positive</td>\n",
       "    </tr>\n",
       "    <tr>\n",
       "      <th>3</th>\n",
       "      <td>Basically there's a family where a little boy ...</td>\n",
       "      <td>negative</td>\n",
       "    </tr>\n",
       "    <tr>\n",
       "      <th>4</th>\n",
       "      <td>Petter Mattei's \"Love in the Time of Money\" is...</td>\n",
       "      <td>positive</td>\n",
       "    </tr>\n",
       "  </tbody>\n",
       "</table>\n",
       "</div>"
      ],
      "text/plain": [
       "                                              review sentiment\n",
       "0  One of the other reviewers has mentioned that ...  positive\n",
       "1  A wonderful little production. <br /><br />The...  positive\n",
       "2  I thought this was a wonderful way to spend ti...  positive\n",
       "3  Basically there's a family where a little boy ...  negative\n",
       "4  Petter Mattei's \"Love in the Time of Money\" is...  positive"
      ]
     },
     "execution_count": 19,
     "metadata": {},
     "output_type": "execute_result"
    }
   ],
   "source": [
    "df = pd.read_csv('C:/Users/prisc/OneDrive/Escritorio/5to semestre/Minería/Project-No.-1_N-grams/IMDB Dataset.csv')\n",
    "df.head()"
   ]
  },
  {
   "cell_type": "code",
   "execution_count": 20,
   "id": "98b7c28c",
   "metadata": {},
   "outputs": [
    {
     "name": "stdout",
     "output_type": "stream",
     "text": [
      "<class 'pandas.core.frame.DataFrame'>\n",
      "RangeIndex: 50000 entries, 0 to 49999\n",
      "Data columns (total 2 columns):\n",
      " #   Column     Non-Null Count  Dtype \n",
      "---  ------     --------------  ----- \n",
      " 0   review     50000 non-null  object\n",
      " 1   sentiment  50000 non-null  object\n",
      "dtypes: object(2)\n",
      "memory usage: 781.4+ KB\n"
     ]
    }
   ],
   "source": [
    "df.info()"
   ]
  },
  {
   "cell_type": "markdown",
   "id": "7637028f",
   "metadata": {},
   "source": [
    "# División train/test"
   ]
  },
  {
   "cell_type": "code",
   "execution_count": 21,
   "id": "620572cc",
   "metadata": {},
   "outputs": [
    {
     "name": "stdout",
     "output_type": "stream",
     "text": [
      "Tamaño train: 25000\n",
      "Tamaño test: 25000\n"
     ]
    }
   ],
   "source": [
    "train_df, test_df = train_test_split(df, test_size=0.5, random_state=42, stratify=df['sentiment'])\n",
    "\n",
    "print(\"Tamaño train:\", len(train_df))\n",
    "print(\"Tamaño test:\", len(test_df))\n"
   ]
  },
  {
   "cell_type": "markdown",
   "id": "d24b4eba",
   "metadata": {},
   "source": [
    "# Pre-Procesamiento"
   ]
  },
  {
   "cell_type": "code",
   "execution_count": 25,
   "id": "8cd1373e",
   "metadata": {},
   "outputs": [
    {
     "name": "stderr",
     "output_type": "stream",
     "text": [
      "[nltk_data] Downloading package punkt to\n",
      "[nltk_data]     C:\\Users\\prisc\\AppData\\Roaming\\nltk_data...\n",
      "[nltk_data]   Package punkt is already up-to-date!\n",
      "[nltk_data] Downloading package punkt_tab to\n",
      "[nltk_data]     C:\\Users\\prisc\\AppData\\Roaming\\nltk_data...\n",
      "[nltk_data]   Unzipping tokenizers\\punkt_tab.zip.\n"
     ]
    },
    {
     "data": {
      "text/plain": [
       "True"
      ]
     },
     "execution_count": 25,
     "metadata": {},
     "output_type": "execute_result"
    }
   ],
   "source": [
    "import nltk\n",
    "nltk.download('punkt')\n",
    "nltk.download('punkt_tab')\n"
   ]
  },
  {
   "cell_type": "code",
   "execution_count": 22,
   "id": "57506878",
   "metadata": {},
   "outputs": [
    {
     "name": "stderr",
     "output_type": "stream",
     "text": [
      "[nltk_data] Downloading package punkt to\n",
      "[nltk_data]     C:\\Users\\prisc\\AppData\\Roaming\\nltk_data...\n",
      "[nltk_data]   Unzipping tokenizers\\punkt.zip.\n",
      "[nltk_data] Downloading package stopwords to\n",
      "[nltk_data]     C:\\Users\\prisc\\AppData\\Roaming\\nltk_data...\n",
      "[nltk_data]   Unzipping corpora\\stopwords.zip.\n"
     ]
    },
    {
     "data": {
      "text/plain": [
       "True"
      ]
     },
     "execution_count": 22,
     "metadata": {},
     "output_type": "execute_result"
    }
   ],
   "source": [
    "# Descargar recursos de NLTK (una sola vez)\n",
    "nltk.download(\"punkt\")\n",
    "nltk.download(\"stopwords\")"
   ]
  },
  {
   "cell_type": "code",
   "execution_count": 23,
   "id": "f65f1bb1",
   "metadata": {},
   "outputs": [],
   "source": [
    "STOPWORDS = set(stopwords.words(\"english\"))\n",
    "PUNCT_TABLE = str.maketrans(\"\", \"\", string.punctuation)"
   ]
  },
  {
   "cell_type": "code",
   "execution_count": 26,
   "id": "af3a1222",
   "metadata": {},
   "outputs": [
    {
     "data": {
      "text/html": [
       "<div>\n",
       "<style scoped>\n",
       "    .dataframe tbody tr th:only-of-type {\n",
       "        vertical-align: middle;\n",
       "    }\n",
       "\n",
       "    .dataframe tbody tr th {\n",
       "        vertical-align: top;\n",
       "    }\n",
       "\n",
       "    .dataframe thead th {\n",
       "        text-align: right;\n",
       "    }\n",
       "</style>\n",
       "<table border=\"1\" class=\"dataframe\">\n",
       "  <thead>\n",
       "    <tr style=\"text-align: right;\">\n",
       "      <th></th>\n",
       "      <th>review</th>\n",
       "      <th>sentiment</th>\n",
       "      <th>clean_review</th>\n",
       "    </tr>\n",
       "  </thead>\n",
       "  <tbody>\n",
       "    <tr>\n",
       "      <th>3055</th>\n",
       "      <td>Trio's vignettes were insightful and quite enj...</td>\n",
       "      <td>positive</td>\n",
       "      <td>trio 's vignettes were insightful and quite en...</td>\n",
       "    </tr>\n",
       "    <tr>\n",
       "      <th>47326</th>\n",
       "      <td>I had never heard of this one before the owner...</td>\n",
       "      <td>negative</td>\n",
       "      <td>i had never heard of this one before the owner...</td>\n",
       "    </tr>\n",
       "    <tr>\n",
       "      <th>48869</th>\n",
       "      <td>This is an excellent but hard to find trippy W...</td>\n",
       "      <td>positive</td>\n",
       "      <td>this is an excellent but hard to find trippy w...</td>\n",
       "    </tr>\n",
       "    <tr>\n",
       "      <th>48623</th>\n",
       "      <td>I am a huge fan of big, loud, trashy, complete...</td>\n",
       "      <td>positive</td>\n",
       "      <td>i am a huge fan of big loud trashy completely ...</td>\n",
       "    </tr>\n",
       "    <tr>\n",
       "      <th>39657</th>\n",
       "      <td>Easily Lucio Fulci's most respected film, \"Don...</td>\n",
       "      <td>positive</td>\n",
       "      <td>easily lucio fulci 's most respected film do n...</td>\n",
       "    </tr>\n",
       "  </tbody>\n",
       "</table>\n",
       "</div>"
      ],
      "text/plain": [
       "                                                  review sentiment  \\\n",
       "3055   Trio's vignettes were insightful and quite enj...  positive   \n",
       "47326  I had never heard of this one before the owner...  negative   \n",
       "48869  This is an excellent but hard to find trippy W...  positive   \n",
       "48623  I am a huge fan of big, loud, trashy, complete...  positive   \n",
       "39657  Easily Lucio Fulci's most respected film, \"Don...  positive   \n",
       "\n",
       "                                            clean_review  \n",
       "3055   trio 's vignettes were insightful and quite en...  \n",
       "47326  i had never heard of this one before the owner...  \n",
       "48869  this is an excellent but hard to find trippy w...  \n",
       "48623  i am a huge fan of big loud trashy completely ...  \n",
       "39657  easily lucio fulci 's most respected film do n...  "
      ]
     },
     "execution_count": 26,
     "metadata": {},
     "output_type": "execute_result"
    }
   ],
   "source": [
    "def preprocess_text(text, remove_stopwords=False):\n",
    "    # Minúsculas\n",
    "    text = text.lower()\n",
    "    # Eliminar HTML\n",
    "    text = re.sub(r\"<.*?>\", \" \", text)\n",
    "    # Tokenizar\n",
    "    tokens = word_tokenize(text)\n",
    "    # Eliminar tokens que no son alfanuméricos\n",
    "    tokens = [t for t in tokens if any(c.isalnum() for c in t)]\n",
    "    # Eliminar stopwords si se quiere\n",
    "    if remove_stopwords:\n",
    "        tokens = [t for t in tokens if t not in STOPWORDS]\n",
    "    return \" \".join(tokens)\n",
    "\n",
    "# Aplicamos a train y test\n",
    "train_df[\"clean_review\"] = train_df[\"review\"].apply(lambda x: preprocess_text(x, remove_stopwords=False))\n",
    "test_df[\"clean_review\"] = test_df[\"review\"].apply(lambda x: preprocess_text(x, remove_stopwords=False))\n",
    "\n",
    "train_df.head()"
   ]
  },
  {
   "cell_type": "markdown",
   "id": "4a1e1054",
   "metadata": {},
   "source": [
    "# Extracción de características"
   ]
  },
  {
   "cell_type": "code",
   "execution_count": null,
   "id": "4ff9a513",
   "metadata": {},
   "outputs": [
    {
     "name": "stdout",
     "output_type": "stream",
     "text": [
      "Shape X_train: (25000, 50000)\n",
      "Shape X_test: (25000, 50000)\n"
     ]
    }
   ],
   "source": [
    "# Definir el vectorizador con unigramas, bigramas y trigramas\n",
    "vectorizer = CountVectorizer(ngram_range=(1,3), max_features=50000)  \n",
    "# max_features: limita vocabulario para no explotar la RAM\n",
    "\n",
    "#  Ajustar al train y transformar\n",
    "X_train = vectorizer.fit_transform(train_df[\"clean_review\"])\n",
    "X_test = vectorizer.transform(test_df[\"clean_review\"])\n",
    "\n",
    "y_train = train_df[\"sentiment\"]\n",
    "y_test = test_df[\"sentiment\"]\n",
    "\n",
    "print(\"Shape X_train:\", X_train.shape)\n",
    "print(\"Shape X_test:\", X_test.shape)"
   ]
  },
  {
   "cell_type": "markdown",
   "id": "a19a8372",
   "metadata": {},
   "source": [
    "# Entrenamiento de Modelo"
   ]
  },
  {
   "cell_type": "markdown",
   "id": "ef25d3f4",
   "metadata": {},
   "source": [
    "## Regresión Logística"
   ]
  },
  {
   "cell_type": "code",
   "execution_count": null,
   "id": "5e6cd7c2",
   "metadata": {},
   "outputs": [
    {
     "name": "stderr",
     "output_type": "stream",
     "text": [
      "c:\\Users\\prisc\\AppData\\Local\\Programs\\Python\\Python313\\Lib\\site-packages\\sklearn\\linear_model\\_sag.py:348: ConvergenceWarning: The max_iter was reached which means the coef_ did not converge\n",
      "  warnings.warn(\n"
     ]
    },
    {
     "name": "stdout",
     "output_type": "stream",
     "text": [
      "🔹 Logistic Regression\n",
      "Accuracy: 0.90112\n",
      "              precision    recall  f1-score   support\n",
      "\n",
      "    negative       0.91      0.90      0.90     12500\n",
      "    positive       0.90      0.91      0.90     12500\n",
      "\n",
      "    accuracy                           0.90     25000\n",
      "   macro avg       0.90      0.90      0.90     25000\n",
      "weighted avg       0.90      0.90      0.90     25000\n",
      "\n"
     ]
    }
   ],
   "source": [
    "logreg = LogisticRegression(max_iter=1000, solver=\"saga\")\n",
    "logreg.fit(X_train, y_train)\n",
    "y_pred_logreg = logreg.predict(X_test)\n",
    "print(\"Logistic Regression\")\n",
    "print(\"Accuracy:\", accuracy_score(y_test, y_pred_logreg))\n",
    "print(classification_report(y_test, y_pred_logreg))"
   ]
  },
  {
   "cell_type": "markdown",
   "id": "483a30e2",
   "metadata": {},
   "source": [
    "## Naive Bayes"
   ]
  },
  {
   "cell_type": "code",
   "execution_count": null,
   "id": "fc34276c",
   "metadata": {},
   "outputs": [
    {
     "name": "stdout",
     "output_type": "stream",
     "text": [
      "🔹 Naive Bayes\n",
      "Accuracy: 0.86696\n",
      "              precision    recall  f1-score   support\n",
      "\n",
      "    negative       0.87      0.87      0.87     12500\n",
      "    positive       0.87      0.87      0.87     12500\n",
      "\n",
      "    accuracy                           0.87     25000\n",
      "   macro avg       0.87      0.87      0.87     25000\n",
      "weighted avg       0.87      0.87      0.87     25000\n",
      "\n"
     ]
    }
   ],
   "source": [
    "nb = MultinomialNB()\n",
    "nb.fit(X_train, y_train)\n",
    "y_pred_nb = nb.predict(X_test)\n",
    "print(\"Naive Bayes\")\n",
    "print(\"Accuracy:\", accuracy_score(y_test, y_pred_nb))\n",
    "print(classification_report(y_test, y_pred_nb))"
   ]
  },
  {
   "cell_type": "markdown",
   "id": "c0c60634",
   "metadata": {},
   "source": [
    "## SVM"
   ]
  },
  {
   "cell_type": "code",
   "execution_count": null,
   "id": "113df1be",
   "metadata": {},
   "outputs": [
    {
     "name": "stderr",
     "output_type": "stream",
     "text": [
      "c:\\Users\\prisc\\AppData\\Local\\Programs\\Python\\Python313\\Lib\\site-packages\\sklearn\\svm\\_base.py:1250: ConvergenceWarning: Liblinear failed to converge, increase the number of iterations.\n",
      "  warnings.warn(\n"
     ]
    },
    {
     "name": "stdout",
     "output_type": "stream",
     "text": [
      "🔹 SVM\n",
      "Accuracy: 0.88444\n",
      "              precision    recall  f1-score   support\n",
      "\n",
      "    negative       0.89      0.88      0.88     12500\n",
      "    positive       0.88      0.89      0.88     12500\n",
      "\n",
      "    accuracy                           0.88     25000\n",
      "   macro avg       0.88      0.88      0.88     25000\n",
      "weighted avg       0.88      0.88      0.88     25000\n",
      "\n"
     ]
    }
   ],
   "source": [
    "svm = LinearSVC()\n",
    "svm.fit(X_train, y_train)\n",
    "y_pred_svm = svm.predict(X_test)\n",
    "print(\"SVM\")\n",
    "print(\"Accuracy:\", accuracy_score(y_test, y_pred_svm))\n",
    "print(classification_report(y_test, y_pred_svm))"
   ]
  },
  {
   "cell_type": "markdown",
   "id": "bacb63bc",
   "metadata": {},
   "source": [
    "# Evaluación"
   ]
  },
  {
   "cell_type": "code",
   "execution_count": 35,
   "id": "7505446c",
   "metadata": {},
   "outputs": [],
   "source": [
    "def plot_confusion(y_true, y_pred, title):\n",
    "    cm = confusion_matrix(y_true, y_pred, labels=[\"positive\", \"negative\"])\n",
    "    plt.figure(figsize=(5,4))\n",
    "    sns.heatmap(cm, annot=True, fmt=\"d\", cmap=\"Blues\",\n",
    "                xticklabels=[\"positive\", \"negative\"],\n",
    "                yticklabels=[\"positive\", \"negative\"])\n",
    "    plt.xlabel(\"Predicted\")\n",
    "    plt.ylabel(\"True\")\n",
    "    plt.title(title)\n",
    "    plt.show()"
   ]
  },
  {
   "cell_type": "markdown",
   "id": "563889b2",
   "metadata": {},
   "source": [
    "## Regresión Logística"
   ]
  },
  {
   "cell_type": "code",
   "execution_count": 36,
   "id": "76042b06",
   "metadata": {},
   "outputs": [
    {
     "data": {
      "image/png": "[encoded data removed]",
      "text/plain": [
       "<Figure size 500x400 with 2 Axes>"
      ]
     },
     "metadata": {},
     "output_type": "display_data"
    }
   ],
   "source": [
    "plot_confusion(y_test, y_pred_logreg, \"Confusion Matrix - Logistic Regression\")"
   ]
  },
  {
   "cell_type": "markdown",
   "id": "813581b7",
   "metadata": {},
   "source": [
    "## Naive Bayes"
   ]
  },
  {
   "cell_type": "code",
   "execution_count": 37,
   "id": "74aed4a7",
   "metadata": {},
   "outputs": [
    {
     "data": {
      "image/png": "[encoded data removed]",
      "text/plain": [
       "<Figure size 500x400 with 2 Axes>"
      ]
     },
     "metadata": {},
     "output_type": "display_data"
    }
   ],
   "source": [
    "plot_confusion(y_test, y_pred_nb, \"Confusion Matrix - Naive Bayes\")\n"
   ]
  },
  {
   "cell_type": "markdown",
   "id": "7ce6a183",
   "metadata": {},
   "source": [
    "## SVM"
   ]
  },
  {
   "cell_type": "code",
   "execution_count": 38,
   "id": "3a7a024a",
   "metadata": {},
   "outputs": [
    {
     "data": {
      "image/png": "[encoded data removed]",
      "text/plain": [
       "<Figure size 500x400 with 2 Axes>"
      ]
     },
     "metadata": {},
     "output_type": "display_data"
    }
   ],
   "source": [
    "plot_confusion(y_test, y_pred_svm, \"Confusion Matrix - SVM\")"
   ]
  },
  {
   "cell_type": "code",
   "execution_count": 40,
   "id": "492f4208",
   "metadata": {},
   "outputs": [
    {
     "name": "stdout",
     "output_type": "stream",
     "text": [
      "\n",
      "============================================================\n",
      "Modelo: LogisticRegression\n",
      "Accuracy: 0.9011\n",
      "Macro - Precision: 0.9012  Recall: 0.9011  F1: 0.9011\n",
      "Weighted - Precision: 0.9012  Recall: 0.9011  F1: 0.9011\n",
      "\n",
      "Per-class (positive / negative):\n",
      " Precision: 0.8972 / 0.9051\n",
      " Recall:    0.9061 / 0.8962\n",
      " F1-score:  0.9016 / 0.9006\n",
      "\n",
      "Classification report:\n",
      "\n",
      "              precision    recall  f1-score   support\n",
      "\n",
      "    positive       0.90      0.91      0.90     12500\n",
      "    negative       0.91      0.90      0.90     12500\n",
      "\n",
      "    accuracy                           0.90     25000\n",
      "   macro avg       0.90      0.90      0.90     25000\n",
      "weighted avg       0.90      0.90      0.90     25000\n",
      "\n",
      "============================================================\n"
     ]
    },
    {
     "data": {
      "image/png": "[encoded data removed]",
      "text/plain": [
       "<Figure size 450x350 with 2 Axes>"
      ]
     },
     "metadata": {},
     "output_type": "display_data"
    },
    {
     "name": "stdout",
     "output_type": "stream",
     "text": [
      "\n",
      "============================================================\n",
      "Modelo: MultinomialNB\n",
      "Accuracy: 0.8670\n",
      "Macro - Precision: 0.8670  Recall: 0.8670  F1: 0.8670\n",
      "Weighted - Precision: 0.8670  Recall: 0.8670  F1: 0.8670\n",
      "\n",
      "Per-class (positive / negative):\n",
      " Precision: 0.8660 / 0.8680\n",
      " Recall:    0.8683 / 0.8656\n",
      " F1-score:  0.8671 / 0.8668\n",
      "\n",
      "Classification report:\n",
      "\n",
      "              precision    recall  f1-score   support\n",
      "\n",
      "    positive       0.87      0.87      0.87     12500\n",
      "    negative       0.87      0.87      0.87     12500\n",
      "\n",
      "    accuracy                           0.87     25000\n",
      "   macro avg       0.87      0.87      0.87     25000\n",
      "weighted avg       0.87      0.87      0.87     25000\n",
      "\n",
      "============================================================\n"
     ]
    },
    {
     "data": {
      "image/png": "[encoded data removed]",
      "text/plain": [
       "<Figure size 450x350 with 2 Axes>"
      ]
     },
     "metadata": {},
     "output_type": "display_data"
    },
    {
     "name": "stdout",
     "output_type": "stream",
     "text": [
      "\n",
      "============================================================\n",
      "Modelo: LinearSVC\n",
      "Accuracy: 0.8844\n",
      "Macro - Precision: 0.8844  Recall: 0.8844  F1: 0.8844\n",
      "Weighted - Precision: 0.8844  Recall: 0.8844  F1: 0.8844\n",
      "\n",
      "Per-class (positive / negative):\n",
      " Precision: 0.8834 / 0.8855\n",
      " Recall:    0.8858 / 0.8831\n",
      " F1-score:  0.8846 / 0.8843\n",
      "\n",
      "Classification report:\n",
      "\n",
      "              precision    recall  f1-score   support\n",
      "\n",
      "    positive       0.88      0.89      0.88     12500\n",
      "    negative       0.89      0.88      0.88     12500\n",
      "\n",
      "    accuracy                           0.88     25000\n",
      "   macro avg       0.88      0.88      0.88     25000\n",
      "weighted avg       0.88      0.88      0.88     25000\n",
      "\n",
      "============================================================\n"
     ]
    },
    {
     "data": {
      "image/png": "[encoded data removed]",
      "text/plain": [
       "<Figure size 450x350 with 2 Axes>"
      ]
     },
     "metadata": {},
     "output_type": "display_data"
    },
    {
     "data": {
      "text/html": [
       "<div>\n",
       "<style scoped>\n",
       "    .dataframe tbody tr th:only-of-type {\n",
       "        vertical-align: middle;\n",
       "    }\n",
       "\n",
       "    .dataframe tbody tr th {\n",
       "        vertical-align: top;\n",
       "    }\n",
       "\n",
       "    .dataframe thead th {\n",
       "        text-align: right;\n",
       "    }\n",
       "</style>\n",
       "<table border=\"1\" class=\"dataframe\">\n",
       "  <thead>\n",
       "    <tr style=\"text-align: right;\">\n",
       "      <th></th>\n",
       "      <th>accuracy</th>\n",
       "      <th>precision_macro</th>\n",
       "      <th>recall_macro</th>\n",
       "      <th>f1_macro</th>\n",
       "      <th>precision_weighted</th>\n",
       "      <th>recall_weighted</th>\n",
       "      <th>f1_weighted</th>\n",
       "      <th>pos_precision</th>\n",
       "      <th>pos_recall</th>\n",
       "      <th>pos_f1</th>\n",
       "      <th>neg_precision</th>\n",
       "      <th>neg_recall</th>\n",
       "      <th>neg_f1</th>\n",
       "    </tr>\n",
       "    <tr>\n",
       "      <th>model</th>\n",
       "      <th></th>\n",
       "      <th></th>\n",
       "      <th></th>\n",
       "      <th></th>\n",
       "      <th></th>\n",
       "      <th></th>\n",
       "      <th></th>\n",
       "      <th></th>\n",
       "      <th></th>\n",
       "      <th></th>\n",
       "      <th></th>\n",
       "      <th></th>\n",
       "      <th></th>\n",
       "    </tr>\n",
       "  </thead>\n",
       "  <tbody>\n",
       "    <tr>\n",
       "      <th>LogisticRegression</th>\n",
       "      <td>0.9011</td>\n",
       "      <td>0.9012</td>\n",
       "      <td>0.9011</td>\n",
       "      <td>0.9011</td>\n",
       "      <td>0.9012</td>\n",
       "      <td>0.9011</td>\n",
       "      <td>0.9011</td>\n",
       "      <td>0.8972</td>\n",
       "      <td>0.9061</td>\n",
       "      <td>0.9016</td>\n",
       "      <td>0.9051</td>\n",
       "      <td>0.8962</td>\n",
       "      <td>0.9006</td>\n",
       "    </tr>\n",
       "    <tr>\n",
       "      <th>MultinomialNB</th>\n",
       "      <td>0.8670</td>\n",
       "      <td>0.8670</td>\n",
       "      <td>0.8670</td>\n",
       "      <td>0.8670</td>\n",
       "      <td>0.8670</td>\n",
       "      <td>0.8670</td>\n",
       "      <td>0.8670</td>\n",
       "      <td>0.8660</td>\n",
       "      <td>0.8683</td>\n",
       "      <td>0.8671</td>\n",
       "      <td>0.8680</td>\n",
       "      <td>0.8656</td>\n",
       "      <td>0.8668</td>\n",
       "    </tr>\n",
       "    <tr>\n",
       "      <th>LinearSVC</th>\n",
       "      <td>0.8844</td>\n",
       "      <td>0.8844</td>\n",
       "      <td>0.8844</td>\n",
       "      <td>0.8844</td>\n",
       "      <td>0.8844</td>\n",
       "      <td>0.8844</td>\n",
       "      <td>0.8844</td>\n",
       "      <td>0.8834</td>\n",
       "      <td>0.8858</td>\n",
       "      <td>0.8846</td>\n",
       "      <td>0.8855</td>\n",
       "      <td>0.8831</td>\n",
       "      <td>0.8843</td>\n",
       "    </tr>\n",
       "  </tbody>\n",
       "</table>\n",
       "</div>"
      ],
      "text/plain": [
       "                    accuracy  precision_macro  recall_macro  f1_macro  \\\n",
       "model                                                                   \n",
       "LogisticRegression    0.9011           0.9012        0.9011    0.9011   \n",
       "MultinomialNB         0.8670           0.8670        0.8670    0.8670   \n",
       "LinearSVC             0.8844           0.8844        0.8844    0.8844   \n",
       "\n",
       "                    precision_weighted  recall_weighted  f1_weighted  \\\n",
       "model                                                                  \n",
       "LogisticRegression              0.9012           0.9011       0.9011   \n",
       "MultinomialNB                   0.8670           0.8670       0.8670   \n",
       "LinearSVC                       0.8844           0.8844       0.8844   \n",
       "\n",
       "                    pos_precision  pos_recall  pos_f1  neg_precision  \\\n",
       "model                                                                  \n",
       "LogisticRegression         0.8972      0.9061  0.9016         0.9051   \n",
       "MultinomialNB              0.8660      0.8683  0.8671         0.8680   \n",
       "LinearSVC                  0.8834      0.8858  0.8846         0.8855   \n",
       "\n",
       "                    neg_recall  neg_f1  \n",
       "model                                   \n",
       "LogisticRegression      0.8962  0.9006  \n",
       "MultinomialNB           0.8656  0.8668  \n",
       "LinearSVC               0.8831  0.8843  "
      ]
     },
     "metadata": {},
     "output_type": "display_data"
    }
   ],
   "source": [
    "\n",
    "# Asegúrate de que y_test y las predicciones existen\n",
    "models_preds = {\n",
    "    \"LogisticRegression\": y_pred_logreg,\n",
    "    \"MultinomialNB\": y_pred_nb,\n",
    "    \"LinearSVC\": y_pred_svm\n",
    "}\n",
    "\n",
    "summary_rows = []\n",
    "\n",
    "def print_cm(y_true, y_pred, title):\n",
    "    labels_order = [\"positive\", \"negative\"]  # ajusta si tus labels son otras\n",
    "    cm = confusion_matrix(y_true, y_pred, labels=labels_order)\n",
    "    plt.figure(figsize=(4.5,3.5))\n",
    "    sns.heatmap(cm, annot=True, fmt=\"d\", cmap=\"Blues\",\n",
    "                xticklabels=labels_order, yticklabels=labels_order)\n",
    "    plt.xlabel(\"Predicted\")\n",
    "    plt.ylabel(\"True\")\n",
    "    plt.title(title)\n",
    "    plt.show()\n",
    "\n",
    "for name, y_pred in models_preds.items():\n",
    "    # accuracy\n",
    "    acc = accuracy_score(y_test, y_pred)\n",
    "    # macro and weighted precision/recall/f1\n",
    "    prec_macro, rec_macro, f1_macro, _ = precision_recall_fscore_support(y_test, y_pred, average=\"macro\")\n",
    "    prec_weight, rec_weight, f1_weight, _ = precision_recall_fscore_support(y_test, y_pred, average=\"weighted\")\n",
    "    # per-class metrics (order: positive, negative)\n",
    "    per_prec, per_rec, per_f1, support = precision_recall_fscore_support(y_test, y_pred, labels=[\"positive\",\"negative\"])\n",
    "    pos_prec, neg_prec = per_prec[0], per_prec[1]\n",
    "    pos_rec, neg_rec = per_rec[0], per_rec[1]\n",
    "    pos_f1,  neg_f1  = per_f1[0], per_f1[1]\n",
    "\n",
    "    # print human-friendly report\n",
    "    print(\"\\n\" + \"=\"*60)\n",
    "    print(f\"Modelo: {name}\")\n",
    "    print(f\"Accuracy: {acc:.4f}\")\n",
    "    print(f\"Macro - Precision: {prec_macro:.4f}  Recall: {rec_macro:.4f}  F1: {f1_macro:.4f}\")\n",
    "    print(f\"Weighted - Precision: {prec_weight:.4f}  Recall: {rec_weight:.4f}  F1: {f1_weight:.4f}\")\n",
    "    print(\"\\nPer-class (positive / negative):\")\n",
    "    print(f\" Precision: {pos_prec:.4f} / {neg_prec:.4f}\")\n",
    "    print(f\" Recall:    {pos_rec:.4f} / {neg_rec:.4f}\")\n",
    "    print(f\" F1-score:  {pos_f1:.4f} / {neg_f1:.4f}\")\n",
    "    print(\"\\nClassification report:\\n\")\n",
    "    print(classification_report(y_test, y_pred, labels=[\"positive\",\"negative\"]))\n",
    "    print(\"=\"*60)\n",
    "\n",
    "    # add to summary table\n",
    "    summary_rows.append({\n",
    "        \"model\": name,\n",
    "        \"accuracy\": acc,\n",
    "        \"precision_macro\": prec_macro,\n",
    "        \"recall_macro\": rec_macro,\n",
    "        \"f1_macro\": f1_macro,\n",
    "        \"precision_weighted\": prec_weight,\n",
    "        \"recall_weighted\": rec_weight,\n",
    "        \"f1_weighted\": f1_weight,\n",
    "        \"pos_precision\": pos_prec,\n",
    "        \"pos_recall\": pos_rec,\n",
    "        \"pos_f1\": pos_f1,\n",
    "        \"neg_precision\": neg_prec,\n",
    "        \"neg_recall\": neg_rec,\n",
    "        \"neg_f1\": neg_f1\n",
    "    })\n",
    "\n",
    "    # show confusion matrix for this model\n",
    "    print_cm(y_test, y_pred, f\"Confusion matrix - {name}\")\n",
    "\n",
    "# show summary dataframe\n",
    "summary_df = pd.DataFrame(summary_rows).set_index(\"model\")\n",
    "display(summary_df.round(4))\n"
   ]
  },
  {
   "cell_type": "markdown",
   "id": "8410b19b",
   "metadata": {},
   "source": [
    "# Análisis de Error"
   ]
  },
  {
   "cell_type": "code",
   "execution_count": 43,
   "id": "3e7a3b34",
   "metadata": {},
   "outputs": [
    {
     "name": "stdout",
     "output_type": "stream",
     "text": [
      "Total errores: 2472\n",
      "================================================================================\n",
      "🔹 Review original:\n",
      "Charles Bronson stars as Lt Crowe a police detective who declares war on a pimp named Duke (Juan Fernandez) who kidnaps the daughter of a Japanese businessman who is the man who sexually harassed Crowe's daughter (Amy Hathaway) in this sleazy yet stylishly helmed revenge thriller. Kinjite may not be for everyone with it's somewhat disturbing plot threads but it is well made and indeed entertaining.\n",
      "✅ Sentiment real: negative\n",
      "❌ Predicción modelo: positive\n",
      "================================================================================\n",
      "🔹 Review original:\n",
      "Even though this film's trailer and poster imply that Sally Hemmings was an important character, I might not have been as shocked to discover she was just a minor (and I do mean Minor) character if this movie was suppose to being told by Sally's very own family! I mean if you are going to tell the story of a member of your family that has been ignored by history, would you really tell it with the man who relegated her to obscurity at the main character? His other lover (who happens to be white) as the actual love interest? I know I wouldn't! I am as pale as they come and normally a big fan of Merchent~Ivory flicks, but I couldn't stomach this film's treatment of poor Sally Hemmings.\n",
      "✅ Sentiment real: negative\n",
      "❌ Predicción modelo: positive\n",
      "================================================================================\n",
      "🔹 Review original:\n",
      "An interesting TV movie based on true fact, betrayed by the description of one of the leading characters, that of a prisoner. Giovanni Ribisi plays his younger brother, who has the delicate mission of deciding if he will appeal to the courts for his brother's death penalty. But when he goes to visit him and enters Elias Koteas, the problem starts. It has nothing to do with Koteas' acting ability. He just looks like the version of a prisoner of proletarian roots according to \"G.Q.\" magazine, with a language too sophisticated for someone who has spent most of his life behind bars. This realization came to me after meeting again an old friend, whom I had not seen for almost 15 years, which he spent in several Panamanian jails. The young man I used to know is gone, not only because he is older, but due to his exposure for a prolonged time to the penal system. There are jails and there are jails, one must say, but this one prisoner in \"Shot In the Heart\" is definitely out of this world.\n",
      "✅ Sentiment real: positive\n",
      "❌ Predicción modelo: negative\n",
      "================================================================================\n",
      "🔹 Review original:\n",
      "How Disney can you get? Preppy rich girls act like idiots, buy a bunch of stuff, and get taught a lesson. Is Disney trying to send a lesson to itself? That maybe while buying everything it should maybe still be human? Whatever the psycho-analysis, this movie sucked.<br /><br />The girls want a rich party for their rich lives. But then money disappears and they have to use their riches to get the milk plant (yes, milk) going to employ the workers. They keep it afloat until daddy comes home. And the man at the beginning, who appears to be the one that takes the money, is the one. But the ending is dumb. Webcam in the Cayman Islands? Huh? Not worth my time ever again. <br /><br />But it is better than Howl's Moving Castle. \"D-\"\n",
      "✅ Sentiment real: negative\n",
      "❌ Predicción modelo: positive\n",
      "================================================================================\n",
      "🔹 Review original:\n",
      "If the ending hadn't been so fantastically unexpected, I don't think I could rate this movie so well.<br /><br />This movie has a lot of uncomfortable, distressing, \"marriage falling apart\" character interaction. That sort of thing is not my kind of drama, so the pace seemed to drag for me.<br /><br />In addition, the main characters are difficult to relate to and thus care much about -- the husband (Alan Rickman) is rather bitter and cranky and the wife (Polly Walker) is aloof and a little haughty. The acting was just fine (Norman Reedus was very alluring), but the characters themselves were perhaps a little TOO realistically flawed (for me).<br /><br />The setting was nice and appropriately isolated and a little spooky. The cinematography had something to it that seemed a little old-fashioned to me somehow.<br /><br />But the last 5-15 minutes of this movie are so ingenious that every uncomfortable scene, awkward conversation, and inexplicable character behavior absolutely worth it. I guessed every typical plot twist except the one that occurred.<br /><br />The ending definitely makes this movie worth watching. The intrigue and the drama, not quite as much.\n",
      "✅ Sentiment real: positive\n",
      "❌ Predicción modelo: negative\n"
     ]
    }
   ],
   "source": [
    "# Escogemos un modelo para analizar (ej. Logistic Regression)\n",
    "y_pred = y_pred_logreg  \n",
    "\n",
    "# Encuentra índices de errores\n",
    "errores_idx = [i for i, (y_true, y_hat) in enumerate(zip(y_test, y_pred)) if y_true != y_hat]\n",
    "\n",
    "print(\"Total errores:\", len(errores_idx))\n",
    "\n",
    "# Muestra algunos ejemplos al azar usando el texto original\n",
    "for i in random.sample(errores_idx, 5):\n",
    "    print(\"=\"*80)\n",
    "    print(\"🔹 Review original:\")\n",
    "    print(test_df.iloc[i][\"review\"])   # aquí usamos test_df, no X_test\n",
    "    print(\"✅ Sentiment real:\", test_df.iloc[i][\"sentiment\"])\n",
    "    print(\"❌ Predicción modelo:\", y_pred[i])"
   ]
  }
 ],
 "metadata": {
  "kernelspec": {
   "display_name": "Python 3",
   "language": "python",
   "name": "python3"
  },
  "language_info": {
   "codemirror_mode": {
    "name": "ipython",
    "version": 3
   },
   "file_extension": ".py",
   "mimetype": "text/x-python",
   "name": "python",
   "nbconvert_exporter": "python",
   "pygments_lexer": "ipython3",
   "version": "3.13.1"
  }
 },
 "nbformat": 4,
 "nbformat_minor": 5
}
